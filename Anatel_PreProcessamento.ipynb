{
  "cells": [
    {
      "cell_type": "markdown",
      "metadata": {
        "id": "view-in-github",
        "colab_type": "text"
      },
      "source": [
        "<a href=\"https://colab.research.google.com/github/gabrielmprata/anatel/blob/main/Anatel_PreProcessamento.ipynb\" target=\"_parent\"><img src=\"https://colab.research.google.com/assets/colab-badge.svg\" alt=\"Open In Colab\"/></a>"
      ]
    },
    {
      "cell_type": "markdown",
      "source": [
        "![py2.png](data:image/png;base64,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)        **ANATEL - Histórico de Acessos Banda Larga Fixa**"
      ],
      "metadata": {
        "id": "o4GXCvyEfv8c"
      }
    },
    {
      "cell_type": "markdown",
      "source": [
        "#**<font color=#85d338 size=\"6\"> 1. Import libraries**"
      ],
      "metadata": {
        "id": "TUdqY5H1MVyw"
      }
    },
    {
      "cell_type": "code",
      "execution_count": 15,
      "metadata": {
        "id": "THhhbXpI3djy"
      },
      "outputs": [],
      "source": [
        "# Importação de pacotes\n",
        "import pandas as pd\n",
        "import numpy as np\n",
        "import missingno as ms # para tratamento de missings\n",
        "\n",
        "#bibliotecas para visualização de dados\n",
        "import seaborn as sns\n",
        "import plotly.express as px\n",
        "import matplotlib.pyplot as plt\n",
        "\n",
        "# Configuração para não exibir os warnings\n",
        "import warnings\n",
        "warnings.filterwarnings(\"ignore\")"
      ]
    },
    {
      "cell_type": "markdown",
      "source": [
        "#**<font color=#85d338 size=\"6\"> 2. Carga dos dados**"
      ],
      "metadata": {
        "id": "XLLpe5ndMu6h"
      }
    },
    {
      "cell_type": "markdown",
      "source": [
        "As informações de acessos de **Banda Larga Fixa**, estão no sítio de dados abertos do governo federal, no link abaixo:\n",
        ">\n",
        "https://dados.gov.br/dados/conjuntos-dados/acessos---banda-larga-fixa\n",
        ">\n",
        "Será baixado um arquivo ZIP com todos os anos disponíveis.\n",
        ">\n",
        "Para esse projeto, selecionamos somente o arquivo de **2023**, para tratar:\n",
        ">\n",
        "Acessos_Banda_Larga_Fixa_2023.zip\n",
        "\n",
        "\n",
        "\n",
        "---\n",
        "\n"
      ],
      "metadata": {
        "id": "xotzoa66BWru"
      }
    },
    {
      "cell_type": "markdown",
      "source": [
        ">**<font color=#85d338> Importar arquivo ZIP**"
      ],
      "metadata": {
        "id": "xNw8JJaGFqt9"
      }
    },
    {
      "cell_type": "code",
      "source": [
        "#Arquivo detalhado com os meses em linhas #executado em 34s\n",
        "acesso_bl_2023 = pd.read_csv('Acessos_Banda_Larga_Fixa_2023.zip', compression='zip', sep=';', decimal=',')"
      ],
      "metadata": {
        "id": "RM5NkdteGoys"
      },
      "execution_count": 16,
      "outputs": []
    },
    {
      "cell_type": "code",
      "execution_count": 17,
      "metadata": {
        "id": "EhtUPATq7Cjy",
        "colab": {
          "base_uri": "https://localhost:8080/"
        },
        "outputId": "d634cef4-f442-40fd-9fbc-63a8a0fd651f"
      },
      "outputs": [
        {
          "output_type": "stream",
          "name": "stdout",
          "text": [
            "<class 'pandas.core.frame.DataFrame'>\n",
            "RangeIndex: 7400809 entries, 0 to 7400808\n",
            "Data columns (total 16 columns):\n",
            " #   Column                 Dtype  \n",
            "---  ------                 -----  \n",
            " 0   Ano                    int64  \n",
            " 1   Mês                    int64  \n",
            " 2   Grupo Econômico        object \n",
            " 3   Empresa                object \n",
            " 4   CNPJ                   int64  \n",
            " 5   Porte da Prestadora    object \n",
            " 6   UF                     object \n",
            " 7   Município              object \n",
            " 8   Código IBGE Município  int64  \n",
            " 9   Faixa de Velocidade    object \n",
            " 10  Velocidade             float64\n",
            " 11  Tecnologia             object \n",
            " 12  Meio de Acesso         object \n",
            " 13  Tipo de Pessoa         object \n",
            " 14  Tipo de Produto        object \n",
            " 15  Acessos                int64  \n",
            "dtypes: float64(1), int64(5), object(10)\n",
            "memory usage: 903.4+ MB\n"
          ]
        }
      ],
      "source": [
        "acesso_bl_2023.info()"
      ]
    },
    {
      "cell_type": "code",
      "source": [
        "acesso_bl_2023.head()"
      ],
      "metadata": {
        "colab": {
          "base_uri": "https://localhost:8080/",
          "height": 365
        },
        "id": "nPRP4pRO0m4B",
        "outputId": "bd23862e-1165-4fe8-a5c4-73475a55f51b"
      },
      "execution_count": 18,
      "outputs": [
        {
          "output_type": "execute_result",
          "data": {
            "text/plain": [
              "    Ano  Mês   Grupo Econômico                      Empresa            CNPJ  \\\n",
              "0  2023   12  TELECOM AMERICAS                        CLARO  66970229000167   \n",
              "1  2023   12  TELECOM AMERICAS                        CLARO  66970229000167   \n",
              "2  2023   12            OUTROS  Mhnet Telecomunicacoes Ltda   5245502000104   \n",
              "3  2023   12            OUTROS  Mhnet Telecomunicacoes Ltda   5245502000104   \n",
              "4  2023   12            OUTROS   LINX TELECOMUNICAÇÕES LTDA   7695739000104   \n",
              "\n",
              "  Porte da Prestadora  UF       Município  Código IBGE Município  \\\n",
              "0        Grande Porte  MG     Sete Lagoas                3167202   \n",
              "1        Grande Porte  SP  Ribeirão Preto                3543402   \n",
              "2       Pequeno Porte  RS   Quatro Irmãos                4315313   \n",
              "3       Pequeno Porte  RS   Quatro Irmãos                4315313   \n",
              "4       Pequeno Porte  SP     Hortolândia                3519071   \n",
              "\n",
              "  Faixa de Velocidade  Velocidade Tecnologia Meio de Acesso   Tipo de Pessoa  \\\n",
              "0            > 34Mbps     35.0000        HFC   Cabo Coaxial    Pessoa Física   \n",
              "1            > 34Mbps    125.0000        HFC   Cabo Coaxial    Pessoa Física   \n",
              "2            > 34Mbps     58.5938      Wi-Fi   Cabo Coaxial  Pessoa Jurídica   \n",
              "3            > 34Mbps     48.8281      Wi-Fi   Cabo Coaxial  Pessoa Jurídica   \n",
              "4      2Mbps a 12Mbps     10.0000   ETHERNET   Cabo Coaxial  Pessoa Jurídica   \n",
              "\n",
              "  Tipo de Produto  Acessos  \n",
              "0        INTERNET      209  \n",
              "1        INTERNET    14250  \n",
              "2        INTERNET        5  \n",
              "3        INTERNET        1  \n",
              "4        INTERNET        1  "
            ],
            "text/html": [
              "\n",
              "  <div id=\"df-84d39c0a-66db-4fa5-b401-b1e9848e8525\" class=\"colab-df-container\">\n",
              "    <div>\n",
              "<style scoped>\n",
              "    .dataframe tbody tr th:only-of-type {\n",
              "        vertical-align: middle;\n",
              "    }\n",
              "\n",
              "    .dataframe tbody tr th {\n",
              "        vertical-align: top;\n",
              "    }\n",
              "\n",
              "    .dataframe thead th {\n",
              "        text-align: right;\n",
              "    }\n",
              "</style>\n",
              "<table border=\"1\" class=\"dataframe\">\n",
              "  <thead>\n",
              "    <tr style=\"text-align: right;\">\n",
              "      <th></th>\n",
              "      <th>Ano</th>\n",
              "      <th>Mês</th>\n",
              "      <th>Grupo Econômico</th>\n",
              "      <th>Empresa</th>\n",
              "      <th>CNPJ</th>\n",
              "      <th>Porte da Prestadora</th>\n",
              "      <th>UF</th>\n",
              "      <th>Município</th>\n",
              "      <th>Código IBGE Município</th>\n",
              "      <th>Faixa de Velocidade</th>\n",
              "      <th>Velocidade</th>\n",
              "      <th>Tecnologia</th>\n",
              "      <th>Meio de Acesso</th>\n",
              "      <th>Tipo de Pessoa</th>\n",
              "      <th>Tipo de Produto</th>\n",
              "      <th>Acessos</th>\n",
              "    </tr>\n",
              "  </thead>\n",
              "  <tbody>\n",
              "    <tr>\n",
              "      <th>0</th>\n",
              "      <td>2023</td>\n",
              "      <td>12</td>\n",
              "      <td>TELECOM AMERICAS</td>\n",
              "      <td>CLARO</td>\n",
              "      <td>66970229000167</td>\n",
              "      <td>Grande Porte</td>\n",
              "      <td>MG</td>\n",
              "      <td>Sete Lagoas</td>\n",
              "      <td>3167202</td>\n",
              "      <td>&gt; 34Mbps</td>\n",
              "      <td>35.0000</td>\n",
              "      <td>HFC</td>\n",
              "      <td>Cabo Coaxial</td>\n",
              "      <td>Pessoa Física</td>\n",
              "      <td>INTERNET</td>\n",
              "      <td>209</td>\n",
              "    </tr>\n",
              "    <tr>\n",
              "      <th>1</th>\n",
              "      <td>2023</td>\n",
              "      <td>12</td>\n",
              "      <td>TELECOM AMERICAS</td>\n",
              "      <td>CLARO</td>\n",
              "      <td>66970229000167</td>\n",
              "      <td>Grande Porte</td>\n",
              "      <td>SP</td>\n",
              "      <td>Ribeirão Preto</td>\n",
              "      <td>3543402</td>\n",
              "      <td>&gt; 34Mbps</td>\n",
              "      <td>125.0000</td>\n",
              "      <td>HFC</td>\n",
              "      <td>Cabo Coaxial</td>\n",
              "      <td>Pessoa Física</td>\n",
              "      <td>INTERNET</td>\n",
              "      <td>14250</td>\n",
              "    </tr>\n",
              "    <tr>\n",
              "      <th>2</th>\n",
              "      <td>2023</td>\n",
              "      <td>12</td>\n",
              "      <td>OUTROS</td>\n",
              "      <td>Mhnet Telecomunicacoes Ltda</td>\n",
              "      <td>5245502000104</td>\n",
              "      <td>Pequeno Porte</td>\n",
              "      <td>RS</td>\n",
              "      <td>Quatro Irmãos</td>\n",
              "      <td>4315313</td>\n",
              "      <td>&gt; 34Mbps</td>\n",
              "      <td>58.5938</td>\n",
              "      <td>Wi-Fi</td>\n",
              "      <td>Cabo Coaxial</td>\n",
              "      <td>Pessoa Jurídica</td>\n",
              "      <td>INTERNET</td>\n",
              "      <td>5</td>\n",
              "    </tr>\n",
              "    <tr>\n",
              "      <th>3</th>\n",
              "      <td>2023</td>\n",
              "      <td>12</td>\n",
              "      <td>OUTROS</td>\n",
              "      <td>Mhnet Telecomunicacoes Ltda</td>\n",
              "      <td>5245502000104</td>\n",
              "      <td>Pequeno Porte</td>\n",
              "      <td>RS</td>\n",
              "      <td>Quatro Irmãos</td>\n",
              "      <td>4315313</td>\n",
              "      <td>&gt; 34Mbps</td>\n",
              "      <td>48.8281</td>\n",
              "      <td>Wi-Fi</td>\n",
              "      <td>Cabo Coaxial</td>\n",
              "      <td>Pessoa Jurídica</td>\n",
              "      <td>INTERNET</td>\n",
              "      <td>1</td>\n",
              "    </tr>\n",
              "    <tr>\n",
              "      <th>4</th>\n",
              "      <td>2023</td>\n",
              "      <td>12</td>\n",
              "      <td>OUTROS</td>\n",
              "      <td>LINX TELECOMUNICAÇÕES LTDA</td>\n",
              "      <td>7695739000104</td>\n",
              "      <td>Pequeno Porte</td>\n",
              "      <td>SP</td>\n",
              "      <td>Hortolândia</td>\n",
              "      <td>3519071</td>\n",
              "      <td>2Mbps a 12Mbps</td>\n",
              "      <td>10.0000</td>\n",
              "      <td>ETHERNET</td>\n",
              "      <td>Cabo Coaxial</td>\n",
              "      <td>Pessoa Jurídica</td>\n",
              "      <td>INTERNET</td>\n",
              "      <td>1</td>\n",
              "    </tr>\n",
              "  </tbody>\n",
              "</table>\n",
              "</div>\n",
              "    <div class=\"colab-df-buttons\">\n",
              "\n",
              "  <div class=\"colab-df-container\">\n",
              "    <button class=\"colab-df-convert\" onclick=\"convertToInteractive('df-84d39c0a-66db-4fa5-b401-b1e9848e8525')\"\n",
              "            title=\"Convert this dataframe to an interactive table.\"\n",
              "            style=\"display:none;\">\n",
              "\n",
              "  <svg xmlns=\"http://www.w3.org/2000/svg\" height=\"24px\" viewBox=\"0 -960 960 960\">\n",
              "    <path d=\"M120-120v-720h720v720H120Zm60-500h600v-160H180v160Zm220 220h160v-160H400v160Zm0 220h160v-160H400v160ZM180-400h160v-160H180v160Zm440 0h160v-160H620v160ZM180-180h160v-160H180v160Zm440 0h160v-160H620v160Z\"/>\n",
              "  </svg>\n",
              "    </button>\n",
              "\n",
              "  <style>\n",
              "    .colab-df-container {\n",
              "      display:flex;\n",
              "      gap: 12px;\n",
              "    }\n",
              "\n",
              "    .colab-df-convert {\n",
              "      background-color: #E8F0FE;\n",
              "      border: none;\n",
              "      border-radius: 50%;\n",
              "      cursor: pointer;\n",
              "      display: none;\n",
              "      fill: #1967D2;\n",
              "      height: 32px;\n",
              "      padding: 0 0 0 0;\n",
              "      width: 32px;\n",
              "    }\n",
              "\n",
              "    .colab-df-convert:hover {\n",
              "      background-color: #E2EBFA;\n",
              "      box-shadow: 0px 1px 2px rgba(60, 64, 67, 0.3), 0px 1px 3px 1px rgba(60, 64, 67, 0.15);\n",
              "      fill: #174EA6;\n",
              "    }\n",
              "\n",
              "    .colab-df-buttons div {\n",
              "      margin-bottom: 4px;\n",
              "    }\n",
              "\n",
              "    [theme=dark] .colab-df-convert {\n",
              "      background-color: #3B4455;\n",
              "      fill: #D2E3FC;\n",
              "    }\n",
              "\n",
              "    [theme=dark] .colab-df-convert:hover {\n",
              "      background-color: #434B5C;\n",
              "      box-shadow: 0px 1px 3px 1px rgba(0, 0, 0, 0.15);\n",
              "      filter: drop-shadow(0px 1px 2px rgba(0, 0, 0, 0.3));\n",
              "      fill: #FFFFFF;\n",
              "    }\n",
              "  </style>\n",
              "\n",
              "    <script>\n",
              "      const buttonEl =\n",
              "        document.querySelector('#df-84d39c0a-66db-4fa5-b401-b1e9848e8525 button.colab-df-convert');\n",
              "      buttonEl.style.display =\n",
              "        google.colab.kernel.accessAllowed ? 'block' : 'none';\n",
              "\n",
              "      async function convertToInteractive(key) {\n",
              "        const element = document.querySelector('#df-84d39c0a-66db-4fa5-b401-b1e9848e8525');\n",
              "        const dataTable =\n",
              "          await google.colab.kernel.invokeFunction('convertToInteractive',\n",
              "                                                    [key], {});\n",
              "        if (!dataTable) return;\n",
              "\n",
              "        const docLinkHtml = 'Like what you see? Visit the ' +\n",
              "          '<a target=\"_blank\" href=https://colab.research.google.com/notebooks/data_table.ipynb>data table notebook</a>'\n",
              "          + ' to learn more about interactive tables.';\n",
              "        element.innerHTML = '';\n",
              "        dataTable['output_type'] = 'display_data';\n",
              "        await google.colab.output.renderOutput(dataTable, element);\n",
              "        const docLink = document.createElement('div');\n",
              "        docLink.innerHTML = docLinkHtml;\n",
              "        element.appendChild(docLink);\n",
              "      }\n",
              "    </script>\n",
              "  </div>\n",
              "\n",
              "\n",
              "<div id=\"df-fbd871d7-8133-4b94-bb48-6631aa02118f\">\n",
              "  <button class=\"colab-df-quickchart\" onclick=\"quickchart('df-fbd871d7-8133-4b94-bb48-6631aa02118f')\"\n",
              "            title=\"Suggest charts\"\n",
              "            style=\"display:none;\">\n",
              "\n",
              "<svg xmlns=\"http://www.w3.org/2000/svg\" height=\"24px\"viewBox=\"0 0 24 24\"\n",
              "     width=\"24px\">\n",
              "    <g>\n",
              "        <path d=\"M19 3H5c-1.1 0-2 .9-2 2v14c0 1.1.9 2 2 2h14c1.1 0 2-.9 2-2V5c0-1.1-.9-2-2-2zM9 17H7v-7h2v7zm4 0h-2V7h2v10zm4 0h-2v-4h2v4z\"/>\n",
              "    </g>\n",
              "</svg>\n",
              "  </button>\n",
              "\n",
              "<style>\n",
              "  .colab-df-quickchart {\n",
              "      --bg-color: #E8F0FE;\n",
              "      --fill-color: #1967D2;\n",
              "      --hover-bg-color: #E2EBFA;\n",
              "      --hover-fill-color: #174EA6;\n",
              "      --disabled-fill-color: #AAA;\n",
              "      --disabled-bg-color: #DDD;\n",
              "  }\n",
              "\n",
              "  [theme=dark] .colab-df-quickchart {\n",
              "      --bg-color: #3B4455;\n",
              "      --fill-color: #D2E3FC;\n",
              "      --hover-bg-color: #434B5C;\n",
              "      --hover-fill-color: #FFFFFF;\n",
              "      --disabled-bg-color: #3B4455;\n",
              "      --disabled-fill-color: #666;\n",
              "  }\n",
              "\n",
              "  .colab-df-quickchart {\n",
              "    background-color: var(--bg-color);\n",
              "    border: none;\n",
              "    border-radius: 50%;\n",
              "    cursor: pointer;\n",
              "    display: none;\n",
              "    fill: var(--fill-color);\n",
              "    height: 32px;\n",
              "    padding: 0;\n",
              "    width: 32px;\n",
              "  }\n",
              "\n",
              "  .colab-df-quickchart:hover {\n",
              "    background-color: var(--hover-bg-color);\n",
              "    box-shadow: 0 1px 2px rgba(60, 64, 67, 0.3), 0 1px 3px 1px rgba(60, 64, 67, 0.15);\n",
              "    fill: var(--button-hover-fill-color);\n",
              "  }\n",
              "\n",
              "  .colab-df-quickchart-complete:disabled,\n",
              "  .colab-df-quickchart-complete:disabled:hover {\n",
              "    background-color: var(--disabled-bg-color);\n",
              "    fill: var(--disabled-fill-color);\n",
              "    box-shadow: none;\n",
              "  }\n",
              "\n",
              "  .colab-df-spinner {\n",
              "    border: 2px solid var(--fill-color);\n",
              "    border-color: transparent;\n",
              "    border-bottom-color: var(--fill-color);\n",
              "    animation:\n",
              "      spin 1s steps(1) infinite;\n",
              "  }\n",
              "\n",
              "  @keyframes spin {\n",
              "    0% {\n",
              "      border-color: transparent;\n",
              "      border-bottom-color: var(--fill-color);\n",
              "      border-left-color: var(--fill-color);\n",
              "    }\n",
              "    20% {\n",
              "      border-color: transparent;\n",
              "      border-left-color: var(--fill-color);\n",
              "      border-top-color: var(--fill-color);\n",
              "    }\n",
              "    30% {\n",
              "      border-color: transparent;\n",
              "      border-left-color: var(--fill-color);\n",
              "      border-top-color: var(--fill-color);\n",
              "      border-right-color: var(--fill-color);\n",
              "    }\n",
              "    40% {\n",
              "      border-color: transparent;\n",
              "      border-right-color: var(--fill-color);\n",
              "      border-top-color: var(--fill-color);\n",
              "    }\n",
              "    60% {\n",
              "      border-color: transparent;\n",
              "      border-right-color: var(--fill-color);\n",
              "    }\n",
              "    80% {\n",
              "      border-color: transparent;\n",
              "      border-right-color: var(--fill-color);\n",
              "      border-bottom-color: var(--fill-color);\n",
              "    }\n",
              "    90% {\n",
              "      border-color: transparent;\n",
              "      border-bottom-color: var(--fill-color);\n",
              "    }\n",
              "  }\n",
              "</style>\n",
              "\n",
              "  <script>\n",
              "    async function quickchart(key) {\n",
              "      const quickchartButtonEl =\n",
              "        document.querySelector('#' + key + ' button');\n",
              "      quickchartButtonEl.disabled = true;  // To prevent multiple clicks.\n",
              "      quickchartButtonEl.classList.add('colab-df-spinner');\n",
              "      try {\n",
              "        const charts = await google.colab.kernel.invokeFunction(\n",
              "            'suggestCharts', [key], {});\n",
              "      } catch (error) {\n",
              "        console.error('Error during call to suggestCharts:', error);\n",
              "      }\n",
              "      quickchartButtonEl.classList.remove('colab-df-spinner');\n",
              "      quickchartButtonEl.classList.add('colab-df-quickchart-complete');\n",
              "    }\n",
              "    (() => {\n",
              "      let quickchartButtonEl =\n",
              "        document.querySelector('#df-fbd871d7-8133-4b94-bb48-6631aa02118f button');\n",
              "      quickchartButtonEl.style.display =\n",
              "        google.colab.kernel.accessAllowed ? 'block' : 'none';\n",
              "    })();\n",
              "  </script>\n",
              "</div>\n",
              "\n",
              "    </div>\n",
              "  </div>\n"
            ],
            "application/vnd.google.colaboratory.intrinsic+json": {
              "type": "dataframe",
              "variable_name": "acesso_bl_2023"
            }
          },
          "metadata": {},
          "execution_count": 18
        }
      ]
    },
    {
      "cell_type": "markdown",
      "source": [
        "\n",
        "\n",
        "---\n",
        "\n"
      ],
      "metadata": {
        "id": "jnRPmB-pD_Tp"
      }
    },
    {
      "cell_type": "markdown",
      "source": [
        "#**<font color=#85d338 size=\"6\"> 3. Análise de Dados Inicial**"
      ],
      "metadata": {
        "id": "myGUk7lGECes"
      }
    },
    {
      "cell_type": "markdown",
      "source": [
        "###**<font color=#85d338> 3.1. Estatísticas Descritivas**"
      ],
      "metadata": {
        "id": "5NSbJBQQEMdz"
      }
    },
    {
      "cell_type": "markdown",
      "source": [
        "Compreende a organização, o resumo e, descrever os dados, que podem ser expressos em tabelas e gráficos.\n",
        ">\n",
        "Veremos a seguir alguns comandos para exibir algumas estatísticas descritivas.\n",
        ">\n",
        "---"
      ],
      "metadata": {
        "id": "NSIMONFZEXD6"
      }
    },
    {
      "cell_type": "code",
      "source": [
        "#\tQuantidade de atributos e instâncias (linhas/colunas)\n",
        "acesso_bl_2023.shape"
      ],
      "metadata": {
        "colab": {
          "base_uri": "https://localhost:8080/"
        },
        "id": "_YHNElBbHwLV",
        "outputId": "fc6064ba-7780-4779-91b4-b215c91f5c90"
      },
      "execution_count": 19,
      "outputs": [
        {
          "output_type": "execute_result",
          "data": {
            "text/plain": [
              "(7400809, 16)"
            ]
          },
          "metadata": {},
          "execution_count": 19
        }
      ]
    },
    {
      "cell_type": "code",
      "source": [
        "# verificando os tipos de dados de cada coluna do dataframe\n",
        "acesso_bl_2023.dtypes"
      ],
      "metadata": {
        "colab": {
          "base_uri": "https://localhost:8080/"
        },
        "id": "l22b3TlcH1No",
        "outputId": "e48a57dd-54bb-4bd4-9824-c470841fd719"
      },
      "execution_count": 20,
      "outputs": [
        {
          "output_type": "execute_result",
          "data": {
            "text/plain": [
              "Ano                        int64\n",
              "Mês                        int64\n",
              "Grupo Econômico           object\n",
              "Empresa                   object\n",
              "CNPJ                       int64\n",
              "Porte da Prestadora       object\n",
              "UF                        object\n",
              "Município                 object\n",
              "Código IBGE Município      int64\n",
              "Faixa de Velocidade       object\n",
              "Velocidade               float64\n",
              "Tecnologia                object\n",
              "Meio de Acesso            object\n",
              "Tipo de Pessoa            object\n",
              "Tipo de Produto           object\n",
              "Acessos                    int64\n",
              "dtype: object"
            ]
          },
          "metadata": {},
          "execution_count": 20
        }
      ]
    },
    {
      "cell_type": "code",
      "source": [
        "# Mostra diversas informações do Dataframe em um único comando, e exibir o uso de memória\n",
        "acesso_bl_2023.info(memory_usage=\"deep\")"
      ],
      "metadata": {
        "colab": {
          "base_uri": "https://localhost:8080/"
        },
        "id": "8v8g3T3MH9zk",
        "outputId": "0f464ade-234e-4290-8261-7a5f249efa9a"
      },
      "execution_count": 22,
      "outputs": [
        {
          "output_type": "stream",
          "name": "stdout",
          "text": [
            "<class 'pandas.core.frame.DataFrame'>\n",
            "RangeIndex: 7400809 entries, 0 to 7400808\n",
            "Data columns (total 16 columns):\n",
            " #   Column                 Dtype  \n",
            "---  ------                 -----  \n",
            " 0   Ano                    int64  \n",
            " 1   Mês                    int64  \n",
            " 2   Grupo Econômico        object \n",
            " 3   Empresa                object \n",
            " 4   CNPJ                   int64  \n",
            " 5   Porte da Prestadora    object \n",
            " 6   UF                     object \n",
            " 7   Município              object \n",
            " 8   Código IBGE Município  int64  \n",
            " 9   Faixa de Velocidade    object \n",
            " 10  Velocidade             float64\n",
            " 11  Tecnologia             object \n",
            " 12  Meio de Acesso         object \n",
            " 13  Tipo de Pessoa         object \n",
            " 14  Tipo de Produto        object \n",
            " 15  Acessos                int64  \n",
            "dtypes: float64(1), int64(5), object(10)\n",
            "memory usage: 5.2 GB\n"
          ]
        }
      ]
    },
    {
      "cell_type": "markdown",
      "source": [
        "A função info() da biblioteca pandas, nos fornece um resumo do dataframe, sendo muito útil para ter uma visão geral do conjunto de dados.\n",
        ">\n",
        "Usando o parâmetro memory_usage = “deep”, saberemos exatamente quanto de memória o dataframe está utilizando.\n",
        ">\n",
        "Sendo assim, depois dos processos de transformações de dados saberemos se tivemos algum ganho de memoria no dataframe.\n",
        ">\n",
        "Inicialmente o dataframe está ocupando 5.2 Gigas de espaço."
      ],
      "metadata": {
        "id": "sxfJmLFTIMNK"
      }
    },
    {
      "cell_type": "code",
      "execution_count": 23,
      "metadata": {
        "colab": {
          "base_uri": "https://localhost:8080/"
        },
        "id": "Uy2Vl-6Y8Gwc",
        "outputId": "aae460cf-bffb-41b5-fd4e-ac79952f550b"
      },
      "outputs": [
        {
          "output_type": "execute_result",
          "data": {
            "text/plain": [
              "Ano                          1\n",
              "Mês                         12\n",
              "Grupo Econômico             25\n",
              "Empresa                   9948\n",
              "CNPJ                     10004\n",
              "Porte da Prestadora          2\n",
              "UF                          27\n",
              "Município                 5297\n",
              "Código IBGE Município     5570\n",
              "Faixa de Velocidade          5\n",
              "Velocidade               10782\n",
              "Tecnologia                  27\n",
              "Meio de Acesso               5\n",
              "Tipo de Pessoa               2\n",
              "Tipo de Produto              4\n",
              "Acessos                  13985\n",
              "dtype: int64"
            ]
          },
          "metadata": {},
          "execution_count": 23
        }
      ],
      "source": [
        "# Quantidade de valores únicos\n",
        "acesso_bl_2023.nunique()"
      ]
    },
    {
      "cell_type": "code",
      "execution_count": 24,
      "metadata": {
        "colab": {
          "base_uri": "https://localhost:8080/"
        },
        "id": "mCEX2N_R7ojp",
        "outputId": "fa5c1850-71cf-4dbf-9a72-36f33f4f1bb2"
      },
      "outputs": [
        {
          "output_type": "execute_result",
          "data": {
            "text/plain": [
              "Ano                        0\n",
              "Mês                        0\n",
              "Grupo Econômico          324\n",
              "Empresa                  324\n",
              "CNPJ                       0\n",
              "Porte da Prestadora      324\n",
              "UF                         0\n",
              "Município                  0\n",
              "Código IBGE Município      0\n",
              "Faixa de Velocidade        0\n",
              "Velocidade                 0\n",
              "Tecnologia                 0\n",
              "Meio de Acesso             0\n",
              "Tipo de Pessoa             0\n",
              "Tipo de Produto            0\n",
              "Acessos                    0\n",
              "dtype: int64"
            ]
          },
          "metadata": {},
          "execution_count": 24
        }
      ],
      "source": [
        "# Quantidade de NaN/Missing/Nulls no dataframe\n",
        "acesso_bl_2023.isnull().sum()"
      ]
    },
    {
      "cell_type": "markdown",
      "source": [
        "Nesse DF 3 atributos, apresentam registros nulos, que deverão ser tratados na etapa de pre-processamento de dados."
      ],
      "metadata": {
        "id": "XrrYj6lUI6PP"
      }
    },
    {
      "cell_type": "markdown",
      "source": [
        "#**<font color=#85d338> 4. Pré-Processamento de dados**"
      ],
      "metadata": {
        "id": "0oXYyQtSK7yF"
      }
    },
    {
      "cell_type": "markdown",
      "source": [
        "Após coletar e analisar os dados na etapa anterior, agora é o momento\n",
        "de limpar, transformar e apresentar melhor os dados.\n",
        ">\n",
        "Assim poderemos obter, na próxima etapa, os melhores resultados possíveis nos algoritmos de\n",
        "Machine Learning, ou simplesmente apresentar dados mais confiáveis para os clientes em soluções de\n",
        "business intelligence.\n",
        "\n",
        "\n",
        "---\n"
      ],
      "metadata": {
        "id": "SZB-J8G9LDuY"
      }
    },
    {
      "cell_type": "markdown",
      "source": [
        "###**<font color=#85d338> 4.1. Limpeza**"
      ],
      "metadata": {
        "id": "b0GjmSo_Le18"
      }
    },
    {
      "cell_type": "markdown",
      "source": [
        "####**<font color=#85d338> 4.1.1 Nomenclatura**"
      ],
      "metadata": {
        "id": "TbMZXnH9Lq2B"
      }
    },
    {
      "cell_type": "markdown",
      "source": [
        "Nessa etpa iremos alterar o nome dos atributos\n",
        ">\n",
        "Retirando o \"espaços\" entre os nomes, os acentos e os caractéres especiais\n"
      ],
      "metadata": {
        "id": "f144Z8P7Lu1C"
      }
    },
    {
      "cell_type": "code",
      "source": [
        "#Renomeando as colunas\n",
        "acesso_bl_2023.rename(columns={ 'Ano': 'ano',\n",
        "                                'Mês': 'mes',\n",
        "                                'Grupo Econômico': 'grupo_economico',\n",
        "                                'Empresa': 'empresa',\n",
        "                                'Porte da Prestadora': 'porte_prestadora',\n",
        "                                'Município': 'municipio',\n",
        "                                'Código IBGE Município': 'codigo_ibge',\n",
        "                                'Faixa de Velocidade': 'faixa_velocidade',\n",
        "                                'Meio de Acesso': 'meio_acesso',\n",
        "                                'Tipo de Pessoa': 'tipo_pessoa',\n",
        "                                'Tipo de Produto': 'tipo_produto'\n",
        "                              },\n",
        "                      inplace=True)"
      ],
      "metadata": {
        "id": "M5P26MExNCi0"
      },
      "execution_count": 33,
      "outputs": []
    },
    {
      "cell_type": "markdown",
      "source": [
        "####**<font color=#85d338> 4.1.2 Redundâncias**\n",
        "\n"
      ],
      "metadata": {
        "id": "uPmoO_4CLlXa"
      }
    },
    {
      "cell_type": "markdown",
      "source": [
        "Vamos eliminar as colunas que não iremos utilizar em nossas analises.\n",
        ">\n",
        "A ideia é ter um dataframe mais leve, e com pouco espaço em disco."
      ],
      "metadata": {
        "id": "lUdRb8nKUezl"
      }
    },
    {
      "cell_type": "code",
      "source": [
        "acesso_bl_2023.drop(['CNPJ',\n",
        "                     'municipio',\n",
        "                     'codigo_ibge',\n",
        "                     'faixa_velocidade',\n",
        "                     'Velocidade',\n",
        "                     'Tecnologia',\n",
        "                     'tipo_produto'\n",
        "                     ], axis=1, inplace= True)"
      ],
      "metadata": {
        "id": "FifTCPfbUX4s"
      },
      "execution_count": 37,
      "outputs": []
    },
    {
      "cell_type": "markdown",
      "source": [
        "####**<font color=#85d338> 4.1.3 Outros**"
      ],
      "metadata": {
        "id": "xFW-K4A1YY6y"
      }
    },
    {
      "cell_type": "markdown",
      "source": [
        "Para reduzir mais o tamanho do DataFrame, vou substituir, no atributo: Tipo_pessoa\n",
        ">\n",
        "Os caracteres de Pessoa Juridica para PJ, e\n",
        ">\n",
        "Pessoa física para PF"
      ],
      "metadata": {
        "id": "dJNeVfpJYciF"
      }
    },
    {
      "cell_type": "code",
      "source": [
        "acesso_bl_2023.tipo_pessoa.value_counts(normalize=True)"
      ],
      "metadata": {
        "colab": {
          "base_uri": "https://localhost:8080/"
        },
        "id": "yVwRvplnYAhq",
        "outputId": "9724a1b1-d429-404d-b20f-9c2ff9df2f28"
      },
      "execution_count": 47,
      "outputs": [
        {
          "output_type": "execute_result",
          "data": {
            "text/plain": [
              "PJ    0.584032\n",
              "PF    0.415968\n",
              "Name: tipo_pessoa, dtype: float64"
            ]
          },
          "metadata": {},
          "execution_count": 47
        }
      ]
    },
    {
      "cell_type": "code",
      "source": [
        "acesso_bl_2023.tipo_pessoa =  acesso_bl_2023.tipo_pessoa.str.replace('Pessoa Jurídica','PJ')\n",
        "acesso_bl_2023.tipo_pessoa =  acesso_bl_2023.tipo_pessoa.str.replace('Pessoa Física','PF')"
      ],
      "metadata": {
        "id": "4T3l9z1SW1ux"
      },
      "execution_count": 41,
      "outputs": []
    },
    {
      "cell_type": "markdown",
      "source": [
        "\n",
        "\n",
        "---\n",
        "\n"
      ],
      "metadata": {
        "id": "rlEc1e7taEnR"
      }
    },
    {
      "cell_type": "markdown",
      "source": [
        "###**<font color=#85d338> 4.2 Redução da dimensionalidade**"
      ],
      "metadata": {
        "id": "DzlarkVLa2IY"
      }
    },
    {
      "cell_type": "markdown",
      "source": [
        "Os datasets podem ter muitas características, e muitos algoritmos de Machine Learning funcionam melhor se a dimensionalidade for menor."
      ],
      "metadata": {
        "id": "WWqAnzxWbDwL"
      }
    },
    {
      "cell_type": "markdown",
      "source": [
        "####**<font color=#85d338> 4.2.1 Agregação**"
      ],
      "metadata": {
        "id": "5hMSgN8dbKHD"
      }
    },
    {
      "cell_type": "markdown",
      "source": [
        "Também pode ser considerada uma técnica de redução de dimensionalidade, pois reduz o número de colunas e linhas do dataset.\n",
        ">\n",
        "O nosso dataset, é aberto por Municipio, e nesse momento não iremos analisar nessa granularidade.\n",
        ">\n",
        "Vamos criar um dataset agregado com a visão por UF, agrupandos os atributos que não se repetem.\n",
        ">\n",
        "Assim, será possivel fazer analises mais rápidas, e ter um dataset menor para usar no Github e Streamlit."
      ],
      "metadata": {
        "id": "X4zxzfR-bSo8"
      }
    },
    {
      "cell_type": "code",
      "source": [
        "bl_fixa_2023 = acesso_bl_2023.groupby([\"ano\",\n",
        "                                              \"mes\",\n",
        "                                              \"grupo_economico\",\n",
        "                                              \"empresa\",\n",
        "                                              \"porte_prestadora\",\n",
        "                                              \"UF\",\n",
        "                                              \"meio_acesso\",\n",
        "                                              \"tipo_pessoa\"])['Acessos'].sum().reset_index()"
      ],
      "metadata": {
        "id": "ericB0a9cAXh"
      },
      "execution_count": 50,
      "outputs": []
    },
    {
      "cell_type": "code",
      "source": [
        "bl_fixa_2023.head()"
      ],
      "metadata": {
        "colab": {
          "base_uri": "https://localhost:8080/",
          "height": 206
        },
        "id": "7NmVOXO1cw28",
        "outputId": "d9391df9-43a0-4713-bf12-2859b8f119da"
      },
      "execution_count": 57,
      "outputs": [
        {
          "output_type": "execute_result",
          "data": {
            "text/plain": [
              "    ano  mes grupo_economico empresa porte_prestadora  UF   meio_acesso  \\\n",
              "0  2023    1          ALARES  ALARES         Pequenas  BA         Fibra   \n",
              "1  2023    1          ALARES  ALARES         Pequenas  BA         Fibra   \n",
              "2  2023    1          ALARES  ALARES         Pequenas  BA         Rádio   \n",
              "3  2023    1          ALARES  ALARES         Pequenas  BA         Rádio   \n",
              "4  2023    1          ALARES  ALARES         Pequenas  CE  Cabo Coaxial   \n",
              "\n",
              "  tipo_pessoa  Acessos  \n",
              "0          PF    15920  \n",
              "1          PJ      714  \n",
              "2          PF        5  \n",
              "3          PJ        6  \n",
              "4          PF     6436  "
            ],
            "text/html": [
              "\n",
              "  <div id=\"df-3442477a-54d0-493a-a2bc-cf4850cdd1d8\" class=\"colab-df-container\">\n",
              "    <div>\n",
              "<style scoped>\n",
              "    .dataframe tbody tr th:only-of-type {\n",
              "        vertical-align: middle;\n",
              "    }\n",
              "\n",
              "    .dataframe tbody tr th {\n",
              "        vertical-align: top;\n",
              "    }\n",
              "\n",
              "    .dataframe thead th {\n",
              "        text-align: right;\n",
              "    }\n",
              "</style>\n",
              "<table border=\"1\" class=\"dataframe\">\n",
              "  <thead>\n",
              "    <tr style=\"text-align: right;\">\n",
              "      <th></th>\n",
              "      <th>ano</th>\n",
              "      <th>mes</th>\n",
              "      <th>grupo_economico</th>\n",
              "      <th>empresa</th>\n",
              "      <th>porte_prestadora</th>\n",
              "      <th>UF</th>\n",
              "      <th>meio_acesso</th>\n",
              "      <th>tipo_pessoa</th>\n",
              "      <th>Acessos</th>\n",
              "    </tr>\n",
              "  </thead>\n",
              "  <tbody>\n",
              "    <tr>\n",
              "      <th>0</th>\n",
              "      <td>2023</td>\n",
              "      <td>1</td>\n",
              "      <td>ALARES</td>\n",
              "      <td>ALARES</td>\n",
              "      <td>Pequenas</td>\n",
              "      <td>BA</td>\n",
              "      <td>Fibra</td>\n",
              "      <td>PF</td>\n",
              "      <td>15920</td>\n",
              "    </tr>\n",
              "    <tr>\n",
              "      <th>1</th>\n",
              "      <td>2023</td>\n",
              "      <td>1</td>\n",
              "      <td>ALARES</td>\n",
              "      <td>ALARES</td>\n",
              "      <td>Pequenas</td>\n",
              "      <td>BA</td>\n",
              "      <td>Fibra</td>\n",
              "      <td>PJ</td>\n",
              "      <td>714</td>\n",
              "    </tr>\n",
              "    <tr>\n",
              "      <th>2</th>\n",
              "      <td>2023</td>\n",
              "      <td>1</td>\n",
              "      <td>ALARES</td>\n",
              "      <td>ALARES</td>\n",
              "      <td>Pequenas</td>\n",
              "      <td>BA</td>\n",
              "      <td>Rádio</td>\n",
              "      <td>PF</td>\n",
              "      <td>5</td>\n",
              "    </tr>\n",
              "    <tr>\n",
              "      <th>3</th>\n",
              "      <td>2023</td>\n",
              "      <td>1</td>\n",
              "      <td>ALARES</td>\n",
              "      <td>ALARES</td>\n",
              "      <td>Pequenas</td>\n",
              "      <td>BA</td>\n",
              "      <td>Rádio</td>\n",
              "      <td>PJ</td>\n",
              "      <td>6</td>\n",
              "    </tr>\n",
              "    <tr>\n",
              "      <th>4</th>\n",
              "      <td>2023</td>\n",
              "      <td>1</td>\n",
              "      <td>ALARES</td>\n",
              "      <td>ALARES</td>\n",
              "      <td>Pequenas</td>\n",
              "      <td>CE</td>\n",
              "      <td>Cabo Coaxial</td>\n",
              "      <td>PF</td>\n",
              "      <td>6436</td>\n",
              "    </tr>\n",
              "  </tbody>\n",
              "</table>\n",
              "</div>\n",
              "    <div class=\"colab-df-buttons\">\n",
              "\n",
              "  <div class=\"colab-df-container\">\n",
              "    <button class=\"colab-df-convert\" onclick=\"convertToInteractive('df-3442477a-54d0-493a-a2bc-cf4850cdd1d8')\"\n",
              "            title=\"Convert this dataframe to an interactive table.\"\n",
              "            style=\"display:none;\">\n",
              "\n",
              "  <svg xmlns=\"http://www.w3.org/2000/svg\" height=\"24px\" viewBox=\"0 -960 960 960\">\n",
              "    <path d=\"M120-120v-720h720v720H120Zm60-500h600v-160H180v160Zm220 220h160v-160H400v160Zm0 220h160v-160H400v160ZM180-400h160v-160H180v160Zm440 0h160v-160H620v160ZM180-180h160v-160H180v160Zm440 0h160v-160H620v160Z\"/>\n",
              "  </svg>\n",
              "    </button>\n",
              "\n",
              "  <style>\n",
              "    .colab-df-container {\n",
              "      display:flex;\n",
              "      gap: 12px;\n",
              "    }\n",
              "\n",
              "    .colab-df-convert {\n",
              "      background-color: #E8F0FE;\n",
              "      border: none;\n",
              "      border-radius: 50%;\n",
              "      cursor: pointer;\n",
              "      display: none;\n",
              "      fill: #1967D2;\n",
              "      height: 32px;\n",
              "      padding: 0 0 0 0;\n",
              "      width: 32px;\n",
              "    }\n",
              "\n",
              "    .colab-df-convert:hover {\n",
              "      background-color: #E2EBFA;\n",
              "      box-shadow: 0px 1px 2px rgba(60, 64, 67, 0.3), 0px 1px 3px 1px rgba(60, 64, 67, 0.15);\n",
              "      fill: #174EA6;\n",
              "    }\n",
              "\n",
              "    .colab-df-buttons div {\n",
              "      margin-bottom: 4px;\n",
              "    }\n",
              "\n",
              "    [theme=dark] .colab-df-convert {\n",
              "      background-color: #3B4455;\n",
              "      fill: #D2E3FC;\n",
              "    }\n",
              "\n",
              "    [theme=dark] .colab-df-convert:hover {\n",
              "      background-color: #434B5C;\n",
              "      box-shadow: 0px 1px 3px 1px rgba(0, 0, 0, 0.15);\n",
              "      filter: drop-shadow(0px 1px 2px rgba(0, 0, 0, 0.3));\n",
              "      fill: #FFFFFF;\n",
              "    }\n",
              "  </style>\n",
              "\n",
              "    <script>\n",
              "      const buttonEl =\n",
              "        document.querySelector('#df-3442477a-54d0-493a-a2bc-cf4850cdd1d8 button.colab-df-convert');\n",
              "      buttonEl.style.display =\n",
              "        google.colab.kernel.accessAllowed ? 'block' : 'none';\n",
              "\n",
              "      async function convertToInteractive(key) {\n",
              "        const element = document.querySelector('#df-3442477a-54d0-493a-a2bc-cf4850cdd1d8');\n",
              "        const dataTable =\n",
              "          await google.colab.kernel.invokeFunction('convertToInteractive',\n",
              "                                                    [key], {});\n",
              "        if (!dataTable) return;\n",
              "\n",
              "        const docLinkHtml = 'Like what you see? Visit the ' +\n",
              "          '<a target=\"_blank\" href=https://colab.research.google.com/notebooks/data_table.ipynb>data table notebook</a>'\n",
              "          + ' to learn more about interactive tables.';\n",
              "        element.innerHTML = '';\n",
              "        dataTable['output_type'] = 'display_data';\n",
              "        await google.colab.output.renderOutput(dataTable, element);\n",
              "        const docLink = document.createElement('div');\n",
              "        docLink.innerHTML = docLinkHtml;\n",
              "        element.appendChild(docLink);\n",
              "      }\n",
              "    </script>\n",
              "  </div>\n",
              "\n",
              "\n",
              "<div id=\"df-f487f535-7029-432a-8425-4e048e20c1c8\">\n",
              "  <button class=\"colab-df-quickchart\" onclick=\"quickchart('df-f487f535-7029-432a-8425-4e048e20c1c8')\"\n",
              "            title=\"Suggest charts\"\n",
              "            style=\"display:none;\">\n",
              "\n",
              "<svg xmlns=\"http://www.w3.org/2000/svg\" height=\"24px\"viewBox=\"0 0 24 24\"\n",
              "     width=\"24px\">\n",
              "    <g>\n",
              "        <path d=\"M19 3H5c-1.1 0-2 .9-2 2v14c0 1.1.9 2 2 2h14c1.1 0 2-.9 2-2V5c0-1.1-.9-2-2-2zM9 17H7v-7h2v7zm4 0h-2V7h2v10zm4 0h-2v-4h2v4z\"/>\n",
              "    </g>\n",
              "</svg>\n",
              "  </button>\n",
              "\n",
              "<style>\n",
              "  .colab-df-quickchart {\n",
              "      --bg-color: #E8F0FE;\n",
              "      --fill-color: #1967D2;\n",
              "      --hover-bg-color: #E2EBFA;\n",
              "      --hover-fill-color: #174EA6;\n",
              "      --disabled-fill-color: #AAA;\n",
              "      --disabled-bg-color: #DDD;\n",
              "  }\n",
              "\n",
              "  [theme=dark] .colab-df-quickchart {\n",
              "      --bg-color: #3B4455;\n",
              "      --fill-color: #D2E3FC;\n",
              "      --hover-bg-color: #434B5C;\n",
              "      --hover-fill-color: #FFFFFF;\n",
              "      --disabled-bg-color: #3B4455;\n",
              "      --disabled-fill-color: #666;\n",
              "  }\n",
              "\n",
              "  .colab-df-quickchart {\n",
              "    background-color: var(--bg-color);\n",
              "    border: none;\n",
              "    border-radius: 50%;\n",
              "    cursor: pointer;\n",
              "    display: none;\n",
              "    fill: var(--fill-color);\n",
              "    height: 32px;\n",
              "    padding: 0;\n",
              "    width: 32px;\n",
              "  }\n",
              "\n",
              "  .colab-df-quickchart:hover {\n",
              "    background-color: var(--hover-bg-color);\n",
              "    box-shadow: 0 1px 2px rgba(60, 64, 67, 0.3), 0 1px 3px 1px rgba(60, 64, 67, 0.15);\n",
              "    fill: var(--button-hover-fill-color);\n",
              "  }\n",
              "\n",
              "  .colab-df-quickchart-complete:disabled,\n",
              "  .colab-df-quickchart-complete:disabled:hover {\n",
              "    background-color: var(--disabled-bg-color);\n",
              "    fill: var(--disabled-fill-color);\n",
              "    box-shadow: none;\n",
              "  }\n",
              "\n",
              "  .colab-df-spinner {\n",
              "    border: 2px solid var(--fill-color);\n",
              "    border-color: transparent;\n",
              "    border-bottom-color: var(--fill-color);\n",
              "    animation:\n",
              "      spin 1s steps(1) infinite;\n",
              "  }\n",
              "\n",
              "  @keyframes spin {\n",
              "    0% {\n",
              "      border-color: transparent;\n",
              "      border-bottom-color: var(--fill-color);\n",
              "      border-left-color: var(--fill-color);\n",
              "    }\n",
              "    20% {\n",
              "      border-color: transparent;\n",
              "      border-left-color: var(--fill-color);\n",
              "      border-top-color: var(--fill-color);\n",
              "    }\n",
              "    30% {\n",
              "      border-color: transparent;\n",
              "      border-left-color: var(--fill-color);\n",
              "      border-top-color: var(--fill-color);\n",
              "      border-right-color: var(--fill-color);\n",
              "    }\n",
              "    40% {\n",
              "      border-color: transparent;\n",
              "      border-right-color: var(--fill-color);\n",
              "      border-top-color: var(--fill-color);\n",
              "    }\n",
              "    60% {\n",
              "      border-color: transparent;\n",
              "      border-right-color: var(--fill-color);\n",
              "    }\n",
              "    80% {\n",
              "      border-color: transparent;\n",
              "      border-right-color: var(--fill-color);\n",
              "      border-bottom-color: var(--fill-color);\n",
              "    }\n",
              "    90% {\n",
              "      border-color: transparent;\n",
              "      border-bottom-color: var(--fill-color);\n",
              "    }\n",
              "  }\n",
              "</style>\n",
              "\n",
              "  <script>\n",
              "    async function quickchart(key) {\n",
              "      const quickchartButtonEl =\n",
              "        document.querySelector('#' + key + ' button');\n",
              "      quickchartButtonEl.disabled = true;  // To prevent multiple clicks.\n",
              "      quickchartButtonEl.classList.add('colab-df-spinner');\n",
              "      try {\n",
              "        const charts = await google.colab.kernel.invokeFunction(\n",
              "            'suggestCharts', [key], {});\n",
              "      } catch (error) {\n",
              "        console.error('Error during call to suggestCharts:', error);\n",
              "      }\n",
              "      quickchartButtonEl.classList.remove('colab-df-spinner');\n",
              "      quickchartButtonEl.classList.add('colab-df-quickchart-complete');\n",
              "    }\n",
              "    (() => {\n",
              "      let quickchartButtonEl =\n",
              "        document.querySelector('#df-f487f535-7029-432a-8425-4e048e20c1c8 button');\n",
              "      quickchartButtonEl.style.display =\n",
              "        google.colab.kernel.accessAllowed ? 'block' : 'none';\n",
              "    })();\n",
              "  </script>\n",
              "</div>\n",
              "\n",
              "    </div>\n",
              "  </div>\n"
            ],
            "application/vnd.google.colaboratory.intrinsic+json": {
              "type": "dataframe",
              "variable_name": "bl_fixa_2023"
            }
          },
          "metadata": {},
          "execution_count": 57
        }
      ]
    },
    {
      "cell_type": "markdown",
      "source": [
        "###**<font color=#85d338> 4.3 Exportar**"
      ],
      "metadata": {
        "id": "KN_rtYgeevFM"
      }
    },
    {
      "cell_type": "markdown",
      "source": [
        "Nessa etapa, iremos exportar o arquivo para poder utiliza-lo no GitHub e no Streamlit."
      ],
      "metadata": {
        "id": "QMPqaOaWe07P"
      }
    },
    {
      "cell_type": "code",
      "source": [
        "#Verificando o tamanho\n",
        "bl_fixa_2023.info()"
      ],
      "metadata": {
        "colab": {
          "base_uri": "https://localhost:8080/"
        },
        "id": "NN1ui3h9fEV3",
        "outputId": "75dddf45-15ea-4d5a-eb18-a345ab137300"
      },
      "execution_count": 56,
      "outputs": [
        {
          "output_type": "stream",
          "name": "stdout",
          "text": [
            "<class 'pandas.core.frame.DataFrame'>\n",
            "RangeIndex: 309275 entries, 0 to 309274\n",
            "Data columns (total 9 columns):\n",
            " #   Column            Non-Null Count   Dtype \n",
            "---  ------            --------------   ----- \n",
            " 0   ano               309275 non-null  int64 \n",
            " 1   mes               309275 non-null  int64 \n",
            " 2   grupo_economico   309275 non-null  object\n",
            " 3   empresa           309275 non-null  object\n",
            " 4   porte_prestadora  309275 non-null  object\n",
            " 5   UF                309275 non-null  object\n",
            " 6   meio_acesso       309275 non-null  object\n",
            " 7   tipo_pessoa       309275 non-null  object\n",
            " 8   Acessos           309275 non-null  int64 \n",
            "dtypes: int64(3), object(6)\n",
            "memory usage: 21.2+ MB\n"
          ]
        }
      ]
    },
    {
      "cell_type": "code",
      "source": [
        "bl_fixa_2023.to_csv(\"banda_larga_fixa_2023.csv\", encoding = 'utf-8')"
      ],
      "metadata": {
        "id": "kpm6HccgdBRq"
      },
      "execution_count": 55,
      "outputs": []
    },
    {
      "cell_type": "markdown",
      "source": [
        "**Arquivo CSV gerado com 22,9 MB**"
      ],
      "metadata": {
        "id": "EoGGx5pmfbcj"
      }
    }
  ],
  "metadata": {
    "colab": {
      "provenance": [],
      "toc_visible": true,
      "authorship_tag": "ABX9TyOUEr+Vtqz6PVHQz+UkPP/S",
      "include_colab_link": true
    },
    "kernelspec": {
      "display_name": "Python 3",
      "name": "python3"
    },
    "language_info": {
      "name": "python"
    }
  },
  "nbformat": 4,
  "nbformat_minor": 0
}