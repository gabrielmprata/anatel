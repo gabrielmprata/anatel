{
  "cells": [
    {
      "cell_type": "markdown",
      "metadata": {
        "id": "view-in-github",
        "colab_type": "text"
      },
      "source": [
        "<a href=\"https://colab.research.google.com/github/gabrielmprata/anatel/blob/main/Anatel_PreProcessamento.ipynb\" target=\"_parent\"><img src=\"https://colab.research.google.com/assets/colab-badge.svg\" alt=\"Open In Colab\"/></a>"
      ]
    },
    {
      "cell_type": "markdown",
      "source": [
        "![py2.png](data:image/png;base64,iVBORw0KGgoAAAANSUhEUgAAAEAAAABACAYAAACqaXHeAAAIwklEQVR42u1bDWzU5hk+uq6bNq3SaOy7JIemSYl9uUAISfajgoRWdULdOmnq1mk7+wiUvw3owgohDWK7ruXsC9AMQontBEr4ySgJofxmtCR2gJAflpFtGqO0HeoCLWgE2A+i/IR80+vLZ/vCXey7C8FX8UmPhFDFvc/jz+/7vO/rOhwPz8Nz304WE3Jn+7nvUSy/iGK5tTTD7aRYfh/N8Edohu+iWe4o/Jli+UaK4bbQDP8KzfKzPP7g9Dx2zZdTkjTlC06lWb6GZrnzNMujREEx3G2a5Q562NB3U4I4/dOKDJrhD8Ui5PFXoJzZlSjnhXUod24Vyp27QYX3hfXq33mK14wgCLdnko//qm3Je4tXu2iGP6cHHEK58zaivMV1aMrSXaiw7G1UtOKgOcoPoMLle1D+kno0cYGgimYQ4kzW7CBhz2vP8o040Ik/F1FR+V7064ZeVN9+Dr1Y122NfBQUlu1FufOqjSIccwQCj9gu0dEMf1clP19UA6+V30fGs3LXqYRFAExcIGoiZLP8TFsJAAHh4ApKd6sBf3LtRoQAXR9cTkqAovL9yFO8NpwcWa7TXsmP5V/FAhSWH1ADPn3+WoQAzb0XkhNgxUE0aeHm8C1g+LtZTOBx+wjAcJVqYP4KLdg50gl09fotlXxf/3X0w7Vy0gJMLqnXXoMsJui1UQLk1qmBzVwdEfCTv2lGz1Uq6FsrDyVNHpD/q516SfXxhfYTAErfUG23irzFWz4DAjD8mmQcX2H5/tQWwOPnKIrhDlMs32MVNMv3aQKU7UttARISjeUWp5QA2b5V+RQbXE6z3Haa5ZqHurmEQbHceykhgIcJfZti+I5k3nHTHPCyTQWgGb6UZrmBiI5u1utq9xZvto9ZBRa9mXAVaF4//nFFJLfKAnHkHojEHkUgQ7JATE20uSnTiPsr1EALrHZ09wnDBVAE8meKSCJTCOQ77254IsM6eX9oGn7y4L8LSpseKPHYAhCzMMlTO1zoz/U6Tm51ojZJF0EWiHNKzXi31avfhZ+8XcibCfBpuxuhkxMicLtjAnqv0WUQgTweCDgesTLOUn9k0qLNtiGfiAAYZ3enayK0SqTPrLN7Pfz0Q5az89gJoDdDtC80yaoAA10TUMdmZ/gWiOQpE1vL/RF+wDtnva3Iq93g4jq9G5wdJKwKADi3V78FLRvJvKjkC+dLn6cZ7qZ6/RfW2k4A75yqoXkA9yHEK4vkfEzqpokA14+6DVWBKI/p9rDC+SU77HX9l+jXn2L5VaoAAvEqEGoTSTTYPWFEAQDdW5xYhEMWRlt2yv6/R/TMiqFdAd+Px+OyQHQAoZN1TlPygL83puM8cHEE5xcWoMhii2o2xytY3oQKljXGDRilTy7ZgbzzNhp3AwO0PzQDYm0RnN+UBXIQCMH7bUWA8wcz9DwgjM+MUgE4PrzACCVB+gCaXLINeedWIc8o9gsUw/3X4+OehTiVLV/7oiKSPUDkaI15AsT4t5ypCdAmOn8QbbAhwY/lFK9NiDw8Odj8jGajRLHcFZrhqmHrBDHul9K/pIjEXkzkH29be/qAWx1uozNcGG24+UbY/q5JzKREbnH6YFJEMTwLu71sP/90PKB9we/A4HP69MCjEBtCjnFyNTFDEYi/YRK9O1xosNttWQBIlIpuj1dGewV+i01QvE8ek6dY/g40Ut7nA4+p1zXgeFSRyKeh9MgCWaUIhBQ3RHK3LBJ9xgYH/P6dTuvkMdprtRvwu2hJsCTeHh3eeXztYZsLq3D87w0ZlQuWOjaLOFZDoo/2Z1gqe9GgO0KiJspsL/gcFmDKsgaLs/rt+rVn+FLtqQtk3fDgj9c640b7pnCZ++tOF/q4OUNtcBIhjgECDrXIoSgzgNe+jsnkvbjVmjubW4Wv/kfatReJdZh055tOdPFwhurHkwl8NAAxaElQIpdGcQJonJp1Ycm5QLJU5yFfDGXr1Sp5iZiGf6RnmxPd7nzwxDU7fMxgh6sJf6xusEUthbMrzZNf6R5DnebZsDsj/6C+q7Xm/nysAa+Q5gM2unJijavLh296Y2HK0kZdAF/oGZjRyQJ5G37gg6YMW5EHnG5w4WboEpTVGLv+oFcbiJh0hJAojQLI1WmFWOHL72baivzdbr0EKiK5y2wo0oIt8UhN0b0CEDOwAP9R7HX9L72j2+BWIe0nprsA/MUH5IJY0+DhArRJac/YVYDeetwKE/3N67O+YGXhyWnzt+LV6ha3YNnusEEaQv5Lb6WEANcMTVBUBxj9oHFqE2K1abGpAGCcuuo093cjahs88og8+GP4PM1MAA+zqiAZAcDXjyY+Pe5Glw5noi59CgSDkJcSXpPlzAzlQq2nGG4JNDtGZDOh78N/k4gAkJ1hiTGa/UI0yAJRa7oTSPYkIsCN4+77S1wkL8LwNGbdf+ACHIuY1r4li0RZslAEYhlYXViMNjQ4Pjdm3xAkLYBIsin91ccoCBAfBOIKuM+UFgDKlHGLGzck4uWUFgBwtSUT/fNAumXARMiQ5FakvAAx0VuE0JkfIdRD31M6TddcD+K0SsSTOLD+I0l2gx/+AqHB8Ke26NYnCP1lqj7ePmEYb0tpv7SNAIqUniaL5F0I7P2m9OQEuHUh4mNr9K96vbM7bFhwCKS9/ncaWSBkdWMjkeh/bUncgjuRX5ujK/s0y4ztrSwQly11dmN7C4hpikAOQIAw0b3amqAIH1fq5AfvIHTmeXXE9qftTuMnLyW29AOqEzOUqtO70tWBZNwinPUj1PcaunnqKXUBqo20w9m/cUxdXtyvgkjOh/bTKETPNpdKpL8lY8Rp8UAn9PButdzBBkiR7vH3GxoavI/Z3hkeqUmjFIFswolxOE5scqpLD9jxwcQGusITm53qBw/RGxuis7Xa+VTqWWQhLVsRiFdkgezF+cG63SXPwqKlTXJ9w/FZOO2bnvgKPEVwcLJAVsO7LIuEogjk0fDnrYQki2RAqXY+C2XV8fA8PPf9/B9e6k1lg5IfZwAAAABJRU5ErkJggg==)        **ANATEL - Pré processamento dos dados históricos de Acessos Banda Larga Fixa**"
      ],
      "metadata": {
        "id": "o4GXCvyEfv8c"
      }
    },
    {
      "cell_type": "markdown",
      "source": [
        "---\n",
        ">\n",
        "**Dev**: Gabriel Prata\n",
        ">\n",
        "**Data de criação**:    01/04/2024\n",
        ">\n",
        "**Última modificação**: 06/04/2024\n",
        ">\n",
        "---"
      ],
      "metadata": {
        "id": "egGFzU1QENgw"
      }
    },
    {
      "cell_type": "markdown",
      "source": [
        "#**<font color=#85d338 size=\"6\"> Import libraries**"
      ],
      "metadata": {
        "id": "TUdqY5H1MVyw"
      }
    },
    {
      "cell_type": "code",
      "execution_count": 2,
      "metadata": {
        "id": "THhhbXpI3djy"
      },
      "outputs": [],
      "source": [
        "# Importação de pacotes\n",
        "import pandas as pd\n",
        "import numpy as np\n",
        "import missingno as ms # para tratamento de missings\n",
        "\n",
        "#bibliotecas para visualização de dados\n",
        "import seaborn as sns\n",
        "import plotly.express as px\n",
        "import matplotlib.pyplot as plt\n",
        "\n",
        "# Configuração para não exibir os warnings\n",
        "import warnings\n",
        "warnings.filterwarnings(\"ignore\")"
      ]
    },
    {
      "cell_type": "markdown",
      "source": [
        "#**<font color=#85d338 size=\"6\"> 1. Objetivo**"
      ],
      "metadata": {
        "id": "WwkGS4yXGA9X"
      }
    },
    {
      "cell_type": "markdown",
      "source": [
        "Nosso objetivo é tratar o arquivo, utilizando técnicas de Pré processamento de dados, e disponibilizar um arquivo ......."
      ],
      "metadata": {
        "id": "YSYlvEXQGDea"
      }
    },
    {
      "cell_type": "markdown",
      "source": [
        "#**<font color=#85d338 size=\"6\"> 2. Carga dos dados**"
      ],
      "metadata": {
        "id": "XLLpe5ndMu6h"
      }
    },
    {
      "cell_type": "markdown",
      "source": [
        "As informações de acessos de **Banda Larga Fixa**, estão no sítio de dados abertos do governo federal, no link abaixo:\n",
        ">\n",
        "https://dados.gov.br/dados/conjuntos-dados/acessos---banda-larga-fixa\n",
        "\n",
        ">\n",
        "É disponibilizado um arquivo ZIP com todos os anos disponíveis.\n",
        ">\n",
        "Para esse projeto o arquivo foi coletado no dia **08/04/2024**.\n",
        ">\n",
        "Selecionamos os seguintes arquivos de **2023**, para tratar:\n",
        ">\n",
        "```\n",
        "Acessos_Banda_Larga_Fixa_2023.zip\n",
        "\n",
        "Acessos_Banda_Larga_Fixa_2023_Colunas.zip\n",
        "```\n",
        ">\n",
        "E o arquivo de **2022**, para analisar a evolução:\n",
        ">\n",
        "```\n",
        "Acessos_Banda_Larga_Fixa_2022.zip\n",
        "```\n",
        "\n",
        "\n"
      ],
      "metadata": {
        "id": "xotzoa66BWru"
      }
    },
    {
      "cell_type": "markdown",
      "source": [
        "<font color=red>✋ ‼ Atenção ‼ ✋\n",
        ">\n",
        "Os arquivos são **atualizados** no sitio da Anatel, e com isso a versão que você pode estar utilizando, pode ser diferente da minha, mesmo que seja o mesmo ano.\n"
      ],
      "metadata": {
        "id": "2HEBCUxh_Rmq"
      }
    },
    {
      "cell_type": "markdown",
      "source": [
        "###**<font color=#85d338> 2.1 Arquivo Acessos_Banda_Larga_Fixa_2023.zip**"
      ],
      "metadata": {
        "id": "xNw8JJaGFqt9"
      }
    },
    {
      "cell_type": "markdown",
      "source": [
        "Esse arquivo contém as informações detalhadas em tuplas."
      ],
      "metadata": {
        "id": "D6dQ2DAuF7if"
      }
    },
    {
      "cell_type": "code",
      "source": [
        "#Arquivo de 2023detalhado com os meses em linhas #executado em 34s\n",
        "acesso_bl_2023 = pd.read_csv('Acessos_Banda_Larga_Fixa_2023.zip', compression='zip', sep=';', decimal=',')"
      ],
      "metadata": {
        "id": "RM5NkdteGoys"
      },
      "execution_count": 20,
      "outputs": []
    },
    {
      "cell_type": "code",
      "execution_count": 11,
      "metadata": {
        "id": "EhtUPATq7Cjy",
        "colab": {
          "base_uri": "https://localhost:8080/"
        },
        "outputId": "bbc79846-c063-4ff2-e067-5363cd16115f"
      },
      "outputs": [
        {
          "output_type": "stream",
          "name": "stdout",
          "text": [
            "<class 'pandas.core.frame.DataFrame'>\n",
            "RangeIndex: 7408649 entries, 0 to 7408648\n",
            "Data columns (total 16 columns):\n",
            " #   Column                 Dtype  \n",
            "---  ------                 -----  \n",
            " 0   Ano                    int64  \n",
            " 1   Mês                    int64  \n",
            " 2   Grupo Econômico        object \n",
            " 3   Empresa                object \n",
            " 4   CNPJ                   int64  \n",
            " 5   Porte da Prestadora    object \n",
            " 6   UF                     object \n",
            " 7   Município              object \n",
            " 8   Código IBGE Município  int64  \n",
            " 9   Faixa de Velocidade    object \n",
            " 10  Velocidade             float64\n",
            " 11  Tecnologia             object \n",
            " 12  Meio de Acesso         object \n",
            " 13  Tipo de Pessoa         object \n",
            " 14  Tipo de Produto        object \n",
            " 15  Acessos                int64  \n",
            "dtypes: float64(1), int64(5), object(10)\n",
            "memory usage: 904.4+ MB\n"
          ]
        }
      ],
      "source": [
        "acesso_bl_2023.info()"
      ]
    },
    {
      "cell_type": "code",
      "source": [
        "acesso_bl_2023.head()"
      ],
      "metadata": {
        "colab": {
          "base_uri": "https://localhost:8080/",
          "height": 417
        },
        "id": "nPRP4pRO0m4B",
        "outputId": "08aad8ef-0db9-472a-9ca7-e303db1393bb"
      },
      "execution_count": 21,
      "outputs": [
        {
          "output_type": "execute_result",
          "data": {
            "text/plain": [
              "    Ano  Mês Grupo Econômico                                      Empresa  \\\n",
              "0  2023   12          OUTROS  VIASAT BRASIL SERVICOS DE COMUNICACOES LTDA   \n",
              "1  2023   12          HUGHES                                       HUGHES   \n",
              "2  2023   12          HUGHES                                       HUGHES   \n",
              "3  2023   12          OUTROS  VIASAT BRASIL SERVICOS DE COMUNICACOES LTDA   \n",
              "4  2023   12          HUGHES                                       HUGHES   \n",
              "\n",
              "             CNPJ Porte da Prestadora  UF           Município  \\\n",
              "0  27001440000110       Pequeno Porte  PA           Oriximiná   \n",
              "1   5206385000161       Pequeno Porte  GO         Niquelândia   \n",
              "2   5206385000161       Pequeno Porte  RJ      Barra do Piraí   \n",
              "3  27001440000110       Pequeno Porte  ES  Conceição da Barra   \n",
              "4   5206385000161       Pequeno Porte  MA                Codó   \n",
              "\n",
              "   Código IBGE Município Faixa de Velocidade  Velocidade Tecnologia  \\\n",
              "0                1505304     12Mbps a 34Mbps      20.000       VSAT   \n",
              "1                5214606     12Mbps a 34Mbps      15.000       VSAT   \n",
              "2                3300308     12Mbps a 34Mbps      20.000       VSAT   \n",
              "3                3201605     12Mbps a 34Mbps      15.000       VSAT   \n",
              "4                2103307     0Kbps a 512Kbps       0.128       VSAT   \n",
              "\n",
              "  Meio de Acesso   Tipo de Pessoa Tipo de Produto  Acessos  \n",
              "0       Satélite    Pessoa Física        INTERNET        5  \n",
              "1       Satélite  Pessoa Jurídica        INTERNET       30  \n",
              "2       Satélite    Pessoa Física        INTERNET        5  \n",
              "3       Satélite    Pessoa Física        INTERNET        1  \n",
              "4       Satélite  Pessoa Jurídica        INTERNET        6  "
            ],
            "text/html": [
              "\n",
              "  <div id=\"df-d541e980-a1ee-46d1-be34-1b07eef3774a\" class=\"colab-df-container\">\n",
              "    <div>\n",
              "<style scoped>\n",
              "    .dataframe tbody tr th:only-of-type {\n",
              "        vertical-align: middle;\n",
              "    }\n",
              "\n",
              "    .dataframe tbody tr th {\n",
              "        vertical-align: top;\n",
              "    }\n",
              "\n",
              "    .dataframe thead th {\n",
              "        text-align: right;\n",
              "    }\n",
              "</style>\n",
              "<table border=\"1\" class=\"dataframe\">\n",
              "  <thead>\n",
              "    <tr style=\"text-align: right;\">\n",
              "      <th></th>\n",
              "      <th>Ano</th>\n",
              "      <th>Mês</th>\n",
              "      <th>Grupo Econômico</th>\n",
              "      <th>Empresa</th>\n",
              "      <th>CNPJ</th>\n",
              "      <th>Porte da Prestadora</th>\n",
              "      <th>UF</th>\n",
              "      <th>Município</th>\n",
              "      <th>Código IBGE Município</th>\n",
              "      <th>Faixa de Velocidade</th>\n",
              "      <th>Velocidade</th>\n",
              "      <th>Tecnologia</th>\n",
              "      <th>Meio de Acesso</th>\n",
              "      <th>Tipo de Pessoa</th>\n",
              "      <th>Tipo de Produto</th>\n",
              "      <th>Acessos</th>\n",
              "    </tr>\n",
              "  </thead>\n",
              "  <tbody>\n",
              "    <tr>\n",
              "      <th>0</th>\n",
              "      <td>2023</td>\n",
              "      <td>12</td>\n",
              "      <td>OUTROS</td>\n",
              "      <td>VIASAT BRASIL SERVICOS DE COMUNICACOES LTDA</td>\n",
              "      <td>27001440000110</td>\n",
              "      <td>Pequeno Porte</td>\n",
              "      <td>PA</td>\n",
              "      <td>Oriximiná</td>\n",
              "      <td>1505304</td>\n",
              "      <td>12Mbps a 34Mbps</td>\n",
              "      <td>20.000</td>\n",
              "      <td>VSAT</td>\n",
              "      <td>Satélite</td>\n",
              "      <td>Pessoa Física</td>\n",
              "      <td>INTERNET</td>\n",
              "      <td>5</td>\n",
              "    </tr>\n",
              "    <tr>\n",
              "      <th>1</th>\n",
              "      <td>2023</td>\n",
              "      <td>12</td>\n",
              "      <td>HUGHES</td>\n",
              "      <td>HUGHES</td>\n",
              "      <td>5206385000161</td>\n",
              "      <td>Pequeno Porte</td>\n",
              "      <td>GO</td>\n",
              "      <td>Niquelândia</td>\n",
              "      <td>5214606</td>\n",
              "      <td>12Mbps a 34Mbps</td>\n",
              "      <td>15.000</td>\n",
              "      <td>VSAT</td>\n",
              "      <td>Satélite</td>\n",
              "      <td>Pessoa Jurídica</td>\n",
              "      <td>INTERNET</td>\n",
              "      <td>30</td>\n",
              "    </tr>\n",
              "    <tr>\n",
              "      <th>2</th>\n",
              "      <td>2023</td>\n",
              "      <td>12</td>\n",
              "      <td>HUGHES</td>\n",
              "      <td>HUGHES</td>\n",
              "      <td>5206385000161</td>\n",
              "      <td>Pequeno Porte</td>\n",
              "      <td>RJ</td>\n",
              "      <td>Barra do Piraí</td>\n",
              "      <td>3300308</td>\n",
              "      <td>12Mbps a 34Mbps</td>\n",
              "      <td>20.000</td>\n",
              "      <td>VSAT</td>\n",
              "      <td>Satélite</td>\n",
              "      <td>Pessoa Física</td>\n",
              "      <td>INTERNET</td>\n",
              "      <td>5</td>\n",
              "    </tr>\n",
              "    <tr>\n",
              "      <th>3</th>\n",
              "      <td>2023</td>\n",
              "      <td>12</td>\n",
              "      <td>OUTROS</td>\n",
              "      <td>VIASAT BRASIL SERVICOS DE COMUNICACOES LTDA</td>\n",
              "      <td>27001440000110</td>\n",
              "      <td>Pequeno Porte</td>\n",
              "      <td>ES</td>\n",
              "      <td>Conceição da Barra</td>\n",
              "      <td>3201605</td>\n",
              "      <td>12Mbps a 34Mbps</td>\n",
              "      <td>15.000</td>\n",
              "      <td>VSAT</td>\n",
              "      <td>Satélite</td>\n",
              "      <td>Pessoa Física</td>\n",
              "      <td>INTERNET</td>\n",
              "      <td>1</td>\n",
              "    </tr>\n",
              "    <tr>\n",
              "      <th>4</th>\n",
              "      <td>2023</td>\n",
              "      <td>12</td>\n",
              "      <td>HUGHES</td>\n",
              "      <td>HUGHES</td>\n",
              "      <td>5206385000161</td>\n",
              "      <td>Pequeno Porte</td>\n",
              "      <td>MA</td>\n",
              "      <td>Codó</td>\n",
              "      <td>2103307</td>\n",
              "      <td>0Kbps a 512Kbps</td>\n",
              "      <td>0.128</td>\n",
              "      <td>VSAT</td>\n",
              "      <td>Satélite</td>\n",
              "      <td>Pessoa Jurídica</td>\n",
              "      <td>INTERNET</td>\n",
              "      <td>6</td>\n",
              "    </tr>\n",
              "  </tbody>\n",
              "</table>\n",
              "</div>\n",
              "    <div class=\"colab-df-buttons\">\n",
              "\n",
              "  <div class=\"colab-df-container\">\n",
              "    <button class=\"colab-df-convert\" onclick=\"convertToInteractive('df-d541e980-a1ee-46d1-be34-1b07eef3774a')\"\n",
              "            title=\"Convert this dataframe to an interactive table.\"\n",
              "            style=\"display:none;\">\n",
              "\n",
              "  <svg xmlns=\"http://www.w3.org/2000/svg\" height=\"24px\" viewBox=\"0 -960 960 960\">\n",
              "    <path d=\"M120-120v-720h720v720H120Zm60-500h600v-160H180v160Zm220 220h160v-160H400v160Zm0 220h160v-160H400v160ZM180-400h160v-160H180v160Zm440 0h160v-160H620v160ZM180-180h160v-160H180v160Zm440 0h160v-160H620v160Z\"/>\n",
              "  </svg>\n",
              "    </button>\n",
              "\n",
              "  <style>\n",
              "    .colab-df-container {\n",
              "      display:flex;\n",
              "      gap: 12px;\n",
              "    }\n",
              "\n",
              "    .colab-df-convert {\n",
              "      background-color: #E8F0FE;\n",
              "      border: none;\n",
              "      border-radius: 50%;\n",
              "      cursor: pointer;\n",
              "      display: none;\n",
              "      fill: #1967D2;\n",
              "      height: 32px;\n",
              "      padding: 0 0 0 0;\n",
              "      width: 32px;\n",
              "    }\n",
              "\n",
              "    .colab-df-convert:hover {\n",
              "      background-color: #E2EBFA;\n",
              "      box-shadow: 0px 1px 2px rgba(60, 64, 67, 0.3), 0px 1px 3px 1px rgba(60, 64, 67, 0.15);\n",
              "      fill: #174EA6;\n",
              "    }\n",
              "\n",
              "    .colab-df-buttons div {\n",
              "      margin-bottom: 4px;\n",
              "    }\n",
              "\n",
              "    [theme=dark] .colab-df-convert {\n",
              "      background-color: #3B4455;\n",
              "      fill: #D2E3FC;\n",
              "    }\n",
              "\n",
              "    [theme=dark] .colab-df-convert:hover {\n",
              "      background-color: #434B5C;\n",
              "      box-shadow: 0px 1px 3px 1px rgba(0, 0, 0, 0.15);\n",
              "      filter: drop-shadow(0px 1px 2px rgba(0, 0, 0, 0.3));\n",
              "      fill: #FFFFFF;\n",
              "    }\n",
              "  </style>\n",
              "\n",
              "    <script>\n",
              "      const buttonEl =\n",
              "        document.querySelector('#df-d541e980-a1ee-46d1-be34-1b07eef3774a button.colab-df-convert');\n",
              "      buttonEl.style.display =\n",
              "        google.colab.kernel.accessAllowed ? 'block' : 'none';\n",
              "\n",
              "      async function convertToInteractive(key) {\n",
              "        const element = document.querySelector('#df-d541e980-a1ee-46d1-be34-1b07eef3774a');\n",
              "        const dataTable =\n",
              "          await google.colab.kernel.invokeFunction('convertToInteractive',\n",
              "                                                    [key], {});\n",
              "        if (!dataTable) return;\n",
              "\n",
              "        const docLinkHtml = 'Like what you see? Visit the ' +\n",
              "          '<a target=\"_blank\" href=https://colab.research.google.com/notebooks/data_table.ipynb>data table notebook</a>'\n",
              "          + ' to learn more about interactive tables.';\n",
              "        element.innerHTML = '';\n",
              "        dataTable['output_type'] = 'display_data';\n",
              "        await google.colab.output.renderOutput(dataTable, element);\n",
              "        const docLink = document.createElement('div');\n",
              "        docLink.innerHTML = docLinkHtml;\n",
              "        element.appendChild(docLink);\n",
              "      }\n",
              "    </script>\n",
              "  </div>\n",
              "\n",
              "\n",
              "<div id=\"df-356825da-cc38-4c8e-98da-41e2d00eddac\">\n",
              "  <button class=\"colab-df-quickchart\" onclick=\"quickchart('df-356825da-cc38-4c8e-98da-41e2d00eddac')\"\n",
              "            title=\"Suggest charts\"\n",
              "            style=\"display:none;\">\n",
              "\n",
              "<svg xmlns=\"http://www.w3.org/2000/svg\" height=\"24px\"viewBox=\"0 0 24 24\"\n",
              "     width=\"24px\">\n",
              "    <g>\n",
              "        <path d=\"M19 3H5c-1.1 0-2 .9-2 2v14c0 1.1.9 2 2 2h14c1.1 0 2-.9 2-2V5c0-1.1-.9-2-2-2zM9 17H7v-7h2v7zm4 0h-2V7h2v10zm4 0h-2v-4h2v4z\"/>\n",
              "    </g>\n",
              "</svg>\n",
              "  </button>\n",
              "\n",
              "<style>\n",
              "  .colab-df-quickchart {\n",
              "      --bg-color: #E8F0FE;\n",
              "      --fill-color: #1967D2;\n",
              "      --hover-bg-color: #E2EBFA;\n",
              "      --hover-fill-color: #174EA6;\n",
              "      --disabled-fill-color: #AAA;\n",
              "      --disabled-bg-color: #DDD;\n",
              "  }\n",
              "\n",
              "  [theme=dark] .colab-df-quickchart {\n",
              "      --bg-color: #3B4455;\n",
              "      --fill-color: #D2E3FC;\n",
              "      --hover-bg-color: #434B5C;\n",
              "      --hover-fill-color: #FFFFFF;\n",
              "      --disabled-bg-color: #3B4455;\n",
              "      --disabled-fill-color: #666;\n",
              "  }\n",
              "\n",
              "  .colab-df-quickchart {\n",
              "    background-color: var(--bg-color);\n",
              "    border: none;\n",
              "    border-radius: 50%;\n",
              "    cursor: pointer;\n",
              "    display: none;\n",
              "    fill: var(--fill-color);\n",
              "    height: 32px;\n",
              "    padding: 0;\n",
              "    width: 32px;\n",
              "  }\n",
              "\n",
              "  .colab-df-quickchart:hover {\n",
              "    background-color: var(--hover-bg-color);\n",
              "    box-shadow: 0 1px 2px rgba(60, 64, 67, 0.3), 0 1px 3px 1px rgba(60, 64, 67, 0.15);\n",
              "    fill: var(--button-hover-fill-color);\n",
              "  }\n",
              "\n",
              "  .colab-df-quickchart-complete:disabled,\n",
              "  .colab-df-quickchart-complete:disabled:hover {\n",
              "    background-color: var(--disabled-bg-color);\n",
              "    fill: var(--disabled-fill-color);\n",
              "    box-shadow: none;\n",
              "  }\n",
              "\n",
              "  .colab-df-spinner {\n",
              "    border: 2px solid var(--fill-color);\n",
              "    border-color: transparent;\n",
              "    border-bottom-color: var(--fill-color);\n",
              "    animation:\n",
              "      spin 1s steps(1) infinite;\n",
              "  }\n",
              "\n",
              "  @keyframes spin {\n",
              "    0% {\n",
              "      border-color: transparent;\n",
              "      border-bottom-color: var(--fill-color);\n",
              "      border-left-color: var(--fill-color);\n",
              "    }\n",
              "    20% {\n",
              "      border-color: transparent;\n",
              "      border-left-color: var(--fill-color);\n",
              "      border-top-color: var(--fill-color);\n",
              "    }\n",
              "    30% {\n",
              "      border-color: transparent;\n",
              "      border-left-color: var(--fill-color);\n",
              "      border-top-color: var(--fill-color);\n",
              "      border-right-color: var(--fill-color);\n",
              "    }\n",
              "    40% {\n",
              "      border-color: transparent;\n",
              "      border-right-color: var(--fill-color);\n",
              "      border-top-color: var(--fill-color);\n",
              "    }\n",
              "    60% {\n",
              "      border-color: transparent;\n",
              "      border-right-color: var(--fill-color);\n",
              "    }\n",
              "    80% {\n",
              "      border-color: transparent;\n",
              "      border-right-color: var(--fill-color);\n",
              "      border-bottom-color: var(--fill-color);\n",
              "    }\n",
              "    90% {\n",
              "      border-color: transparent;\n",
              "      border-bottom-color: var(--fill-color);\n",
              "    }\n",
              "  }\n",
              "</style>\n",
              "\n",
              "  <script>\n",
              "    async function quickchart(key) {\n",
              "      const quickchartButtonEl =\n",
              "        document.querySelector('#' + key + ' button');\n",
              "      quickchartButtonEl.disabled = true;  // To prevent multiple clicks.\n",
              "      quickchartButtonEl.classList.add('colab-df-spinner');\n",
              "      try {\n",
              "        const charts = await google.colab.kernel.invokeFunction(\n",
              "            'suggestCharts', [key], {});\n",
              "      } catch (error) {\n",
              "        console.error('Error during call to suggestCharts:', error);\n",
              "      }\n",
              "      quickchartButtonEl.classList.remove('colab-df-spinner');\n",
              "      quickchartButtonEl.classList.add('colab-df-quickchart-complete');\n",
              "    }\n",
              "    (() => {\n",
              "      let quickchartButtonEl =\n",
              "        document.querySelector('#df-356825da-cc38-4c8e-98da-41e2d00eddac button');\n",
              "      quickchartButtonEl.style.display =\n",
              "        google.colab.kernel.accessAllowed ? 'block' : 'none';\n",
              "    })();\n",
              "  </script>\n",
              "</div>\n",
              "\n",
              "    </div>\n",
              "  </div>\n"
            ],
            "application/vnd.google.colaboratory.intrinsic+json": {
              "type": "dataframe",
              "variable_name": "acesso_bl_2023"
            }
          },
          "metadata": {},
          "execution_count": 21
        }
      ]
    },
    {
      "cell_type": "code",
      "source": [
        "#Arquivo de 2022 detalhado com os meses em linhas #executado em 25s\n",
        "acesso_bl_2022 = pd.read_csv('Acessos_Banda_Larga_Fixa_2022.zip', compression='zip', sep=';', decimal=',')"
      ],
      "metadata": {
        "id": "EhOAQBJxHhvN"
      },
      "execution_count": 18,
      "outputs": []
    },
    {
      "cell_type": "markdown",
      "source": [
        "No dataset de 2022, só temos interesse no mês de **DEZEMBRO**.\n",
        ">\n",
        "Vamos criar um Dataframe selecionado, e depois concatenar com o Dataframe de 2023."
      ],
      "metadata": {
        "id": "QxlAq3wOILxr"
      }
    },
    {
      "cell_type": "code",
      "source": [
        "acesso_bl_2022 = acesso_bl_2022[(acesso_bl_2022['Mês'] == 12)].copy()"
      ],
      "metadata": {
        "id": "pCQGUFHvIi23"
      },
      "execution_count": 22,
      "outputs": []
    },
    {
      "cell_type": "markdown",
      "source": [
        "Utilizei a função \"concat\" para juntar os DataFranes, em apenas um."
      ],
      "metadata": {
        "id": "mFujLKxcIpya"
      }
    },
    {
      "cell_type": "code",
      "source": [
        "acesso_bl_2023 = pd.concat([acesso_bl_2023, acesso_bl_2022],sort=False, ignore_index=True)"
      ],
      "metadata": {
        "id": "tJzTEO6pIzAH"
      },
      "execution_count": 23,
      "outputs": []
    },
    {
      "cell_type": "markdown",
      "source": [
        "###**<font color=#85d338> 2.2 Arquivo Acessos_Banda_Larga_Fixa_2023_Colunas.zip**"
      ],
      "metadata": {
        "id": "1njXpE3wGVYs"
      }
    },
    {
      "cell_type": "markdown",
      "source": [
        "Arquivo agrupando o histórico de acessos em colunas."
      ],
      "metadata": {
        "id": "Marz8JGrGuaI"
      }
    },
    {
      "cell_type": "code",
      "source": [
        "#Arquivo agrupando com os meses em colunas #executado em 4s\n",
        "acesso_bl_2023_colunas = pd.read_csv('Acessos_Banda_Larga_Fixa_2023_Colunas.zip', compression='zip', sep=';', decimal=',')"
      ],
      "metadata": {
        "id": "1rF1YEknGs-f"
      },
      "execution_count": 27,
      "outputs": []
    },
    {
      "cell_type": "code",
      "source": [
        "acesso_bl_2023_colunas.info()"
      ],
      "metadata": {
        "colab": {
          "base_uri": "https://localhost:8080/"
        },
        "id": "EWbALYVPHTxT",
        "outputId": "da4dd211-3c66-4953-d2c1-a3dbbb4d845d"
      },
      "execution_count": 28,
      "outputs": [
        {
          "output_type": "stream",
          "name": "stdout",
          "text": [
            "<class 'pandas.core.frame.DataFrame'>\n",
            "RangeIndex: 880905 entries, 0 to 880904\n",
            "Data columns (total 25 columns):\n",
            " #   Column                 Non-Null Count   Dtype  \n",
            "---  ------                 --------------   -----  \n",
            " 0   CNPJ                   880905 non-null  int64  \n",
            " 1   Velocidade             880905 non-null  float64\n",
            " 2   Município              880905 non-null  object \n",
            " 3   UF                     880905 non-null  object \n",
            " 4   Faixa de Velocidade    880905 non-null  object \n",
            " 5   Tecnologia             880905 non-null  object \n",
            " 6   Empresa                880821 non-null  object \n",
            " 7   Porte da Prestadora    880821 non-null  object \n",
            " 8   Tipo de Pessoa         880905 non-null  object \n",
            " 9   Tipo de Produto        880905 non-null  object \n",
            " 10  Código IBGE Município  880905 non-null  int64  \n",
            " 11  Grupo Econômico        880821 non-null  object \n",
            " 12  Meio de Acesso         880905 non-null  object \n",
            " 13  2023-01                556703 non-null  float64\n",
            " 14  2023-02                566546 non-null  float64\n",
            " 15  2023-03                576829 non-null  float64\n",
            " 16  2023-04                571501 non-null  float64\n",
            " 17  2023-05                584520 non-null  float64\n",
            " 18  2023-06                586962 non-null  float64\n",
            " 19  2023-07                594466 non-null  float64\n",
            " 20  2023-08                596917 non-null  float64\n",
            " 21  2023-09                597794 non-null  float64\n",
            " 22  2023-10                606430 non-null  float64\n",
            " 23  2023-11                607269 non-null  float64\n",
            " 24  2023-12                603660 non-null  float64\n",
            "dtypes: float64(13), int64(2), object(10)\n",
            "memory usage: 168.0+ MB\n"
          ]
        }
      ]
    },
    {
      "cell_type": "code",
      "source": [
        "acesso_bl_2023_colunas.head()"
      ],
      "metadata": {
        "colab": {
          "base_uri": "https://localhost:8080/",
          "height": 464
        },
        "id": "Bo31ADzlHX1h",
        "outputId": "6d48c52a-46a0-4a9b-afd8-34c319c31060"
      },
      "execution_count": 29,
      "outputs": [
        {
          "output_type": "execute_result",
          "data": {
            "text/plain": [
              "            CNPJ  Velocidade   Município  UF Faixa de Velocidade Tecnologia  \\\n",
              "0  5443232000138      1000.0      Andirá  PR            > 34Mbps   ETHERNET   \n",
              "1  5443232000138      1000.0   Apucarana  PR            > 34Mbps   ETHERNET   \n",
              "2  5443232000138      1000.0   Arapongas  PR            > 34Mbps   ETHERNET   \n",
              "3  5443232000138      1000.0  Itambaracá  PR            > 34Mbps   ETHERNET   \n",
              "4  5443232000138      1000.0    Londrina  PR            > 34Mbps   ETHERNET   \n",
              "\n",
              "                 Empresa Porte da Prestadora   Tipo de Pessoa Tipo de Produto  \\\n",
              "0  BC CONECTIVIDADE LTDA       Pequeno Porte  Pessoa Jurídica  LINHA_DEDICADA   \n",
              "1  BC CONECTIVIDADE LTDA       Pequeno Porte  Pessoa Jurídica  LINHA_DEDICADA   \n",
              "2  BC CONECTIVIDADE LTDA       Pequeno Porte  Pessoa Jurídica  LINHA_DEDICADA   \n",
              "3  BC CONECTIVIDADE LTDA       Pequeno Porte  Pessoa Jurídica  LINHA_DEDICADA   \n",
              "4  BC CONECTIVIDADE LTDA       Pequeno Porte  Pessoa Jurídica  LINHA_DEDICADA   \n",
              "\n",
              "   ...  2023-03 2023-04 2023-05  2023-06  2023-07  2023-08  2023-09  2023-10  \\\n",
              "0  ...      NaN     NaN     NaN      3.0      3.0      3.0      3.0      3.0   \n",
              "1  ...      NaN     NaN     NaN      NaN      NaN      NaN      NaN      NaN   \n",
              "2  ...      NaN     NaN     NaN      NaN      NaN      NaN      NaN      NaN   \n",
              "3  ...      NaN     NaN     NaN      NaN      NaN      NaN      NaN      NaN   \n",
              "4  ...      1.0     1.0     3.0      5.0      5.0      5.0      6.0      6.0   \n",
              "\n",
              "   2023-11  2023-12  \n",
              "0      3.0      3.0  \n",
              "1      NaN      1.0  \n",
              "2      NaN      1.0  \n",
              "3      1.0      1.0  \n",
              "4      6.0      7.0  \n",
              "\n",
              "[5 rows x 25 columns]"
            ],
            "text/html": [
              "\n",
              "  <div id=\"df-108f740f-0e2c-4335-b41e-f82ac11bf289\" class=\"colab-df-container\">\n",
              "    <div>\n",
              "<style scoped>\n",
              "    .dataframe tbody tr th:only-of-type {\n",
              "        vertical-align: middle;\n",
              "    }\n",
              "\n",
              "    .dataframe tbody tr th {\n",
              "        vertical-align: top;\n",
              "    }\n",
              "\n",
              "    .dataframe thead th {\n",
              "        text-align: right;\n",
              "    }\n",
              "</style>\n",
              "<table border=\"1\" class=\"dataframe\">\n",
              "  <thead>\n",
              "    <tr style=\"text-align: right;\">\n",
              "      <th></th>\n",
              "      <th>CNPJ</th>\n",
              "      <th>Velocidade</th>\n",
              "      <th>Município</th>\n",
              "      <th>UF</th>\n",
              "      <th>Faixa de Velocidade</th>\n",
              "      <th>Tecnologia</th>\n",
              "      <th>Empresa</th>\n",
              "      <th>Porte da Prestadora</th>\n",
              "      <th>Tipo de Pessoa</th>\n",
              "      <th>Tipo de Produto</th>\n",
              "      <th>...</th>\n",
              "      <th>2023-03</th>\n",
              "      <th>2023-04</th>\n",
              "      <th>2023-05</th>\n",
              "      <th>2023-06</th>\n",
              "      <th>2023-07</th>\n",
              "      <th>2023-08</th>\n",
              "      <th>2023-09</th>\n",
              "      <th>2023-10</th>\n",
              "      <th>2023-11</th>\n",
              "      <th>2023-12</th>\n",
              "    </tr>\n",
              "  </thead>\n",
              "  <tbody>\n",
              "    <tr>\n",
              "      <th>0</th>\n",
              "      <td>5443232000138</td>\n",
              "      <td>1000.0</td>\n",
              "      <td>Andirá</td>\n",
              "      <td>PR</td>\n",
              "      <td>&gt; 34Mbps</td>\n",
              "      <td>ETHERNET</td>\n",
              "      <td>BC CONECTIVIDADE LTDA</td>\n",
              "      <td>Pequeno Porte</td>\n",
              "      <td>Pessoa Jurídica</td>\n",
              "      <td>LINHA_DEDICADA</td>\n",
              "      <td>...</td>\n",
              "      <td>NaN</td>\n",
              "      <td>NaN</td>\n",
              "      <td>NaN</td>\n",
              "      <td>3.0</td>\n",
              "      <td>3.0</td>\n",
              "      <td>3.0</td>\n",
              "      <td>3.0</td>\n",
              "      <td>3.0</td>\n",
              "      <td>3.0</td>\n",
              "      <td>3.0</td>\n",
              "    </tr>\n",
              "    <tr>\n",
              "      <th>1</th>\n",
              "      <td>5443232000138</td>\n",
              "      <td>1000.0</td>\n",
              "      <td>Apucarana</td>\n",
              "      <td>PR</td>\n",
              "      <td>&gt; 34Mbps</td>\n",
              "      <td>ETHERNET</td>\n",
              "      <td>BC CONECTIVIDADE LTDA</td>\n",
              "      <td>Pequeno Porte</td>\n",
              "      <td>Pessoa Jurídica</td>\n",
              "      <td>LINHA_DEDICADA</td>\n",
              "      <td>...</td>\n",
              "      <td>NaN</td>\n",
              "      <td>NaN</td>\n",
              "      <td>NaN</td>\n",
              "      <td>NaN</td>\n",
              "      <td>NaN</td>\n",
              "      <td>NaN</td>\n",
              "      <td>NaN</td>\n",
              "      <td>NaN</td>\n",
              "      <td>NaN</td>\n",
              "      <td>1.0</td>\n",
              "    </tr>\n",
              "    <tr>\n",
              "      <th>2</th>\n",
              "      <td>5443232000138</td>\n",
              "      <td>1000.0</td>\n",
              "      <td>Arapongas</td>\n",
              "      <td>PR</td>\n",
              "      <td>&gt; 34Mbps</td>\n",
              "      <td>ETHERNET</td>\n",
              "      <td>BC CONECTIVIDADE LTDA</td>\n",
              "      <td>Pequeno Porte</td>\n",
              "      <td>Pessoa Jurídica</td>\n",
              "      <td>LINHA_DEDICADA</td>\n",
              "      <td>...</td>\n",
              "      <td>NaN</td>\n",
              "      <td>NaN</td>\n",
              "      <td>NaN</td>\n",
              "      <td>NaN</td>\n",
              "      <td>NaN</td>\n",
              "      <td>NaN</td>\n",
              "      <td>NaN</td>\n",
              "      <td>NaN</td>\n",
              "      <td>NaN</td>\n",
              "      <td>1.0</td>\n",
              "    </tr>\n",
              "    <tr>\n",
              "      <th>3</th>\n",
              "      <td>5443232000138</td>\n",
              "      <td>1000.0</td>\n",
              "      <td>Itambaracá</td>\n",
              "      <td>PR</td>\n",
              "      <td>&gt; 34Mbps</td>\n",
              "      <td>ETHERNET</td>\n",
              "      <td>BC CONECTIVIDADE LTDA</td>\n",
              "      <td>Pequeno Porte</td>\n",
              "      <td>Pessoa Jurídica</td>\n",
              "      <td>LINHA_DEDICADA</td>\n",
              "      <td>...</td>\n",
              "      <td>NaN</td>\n",
              "      <td>NaN</td>\n",
              "      <td>NaN</td>\n",
              "      <td>NaN</td>\n",
              "      <td>NaN</td>\n",
              "      <td>NaN</td>\n",
              "      <td>NaN</td>\n",
              "      <td>NaN</td>\n",
              "      <td>1.0</td>\n",
              "      <td>1.0</td>\n",
              "    </tr>\n",
              "    <tr>\n",
              "      <th>4</th>\n",
              "      <td>5443232000138</td>\n",
              "      <td>1000.0</td>\n",
              "      <td>Londrina</td>\n",
              "      <td>PR</td>\n",
              "      <td>&gt; 34Mbps</td>\n",
              "      <td>ETHERNET</td>\n",
              "      <td>BC CONECTIVIDADE LTDA</td>\n",
              "      <td>Pequeno Porte</td>\n",
              "      <td>Pessoa Jurídica</td>\n",
              "      <td>LINHA_DEDICADA</td>\n",
              "      <td>...</td>\n",
              "      <td>1.0</td>\n",
              "      <td>1.0</td>\n",
              "      <td>3.0</td>\n",
              "      <td>5.0</td>\n",
              "      <td>5.0</td>\n",
              "      <td>5.0</td>\n",
              "      <td>6.0</td>\n",
              "      <td>6.0</td>\n",
              "      <td>6.0</td>\n",
              "      <td>7.0</td>\n",
              "    </tr>\n",
              "  </tbody>\n",
              "</table>\n",
              "<p>5 rows × 25 columns</p>\n",
              "</div>\n",
              "    <div class=\"colab-df-buttons\">\n",
              "\n",
              "  <div class=\"colab-df-container\">\n",
              "    <button class=\"colab-df-convert\" onclick=\"convertToInteractive('df-108f740f-0e2c-4335-b41e-f82ac11bf289')\"\n",
              "            title=\"Convert this dataframe to an interactive table.\"\n",
              "            style=\"display:none;\">\n",
              "\n",
              "  <svg xmlns=\"http://www.w3.org/2000/svg\" height=\"24px\" viewBox=\"0 -960 960 960\">\n",
              "    <path d=\"M120-120v-720h720v720H120Zm60-500h600v-160H180v160Zm220 220h160v-160H400v160Zm0 220h160v-160H400v160ZM180-400h160v-160H180v160Zm440 0h160v-160H620v160ZM180-180h160v-160H180v160Zm440 0h160v-160H620v160Z\"/>\n",
              "  </svg>\n",
              "    </button>\n",
              "\n",
              "  <style>\n",
              "    .colab-df-container {\n",
              "      display:flex;\n",
              "      gap: 12px;\n",
              "    }\n",
              "\n",
              "    .colab-df-convert {\n",
              "      background-color: #E8F0FE;\n",
              "      border: none;\n",
              "      border-radius: 50%;\n",
              "      cursor: pointer;\n",
              "      display: none;\n",
              "      fill: #1967D2;\n",
              "      height: 32px;\n",
              "      padding: 0 0 0 0;\n",
              "      width: 32px;\n",
              "    }\n",
              "\n",
              "    .colab-df-convert:hover {\n",
              "      background-color: #E2EBFA;\n",
              "      box-shadow: 0px 1px 2px rgba(60, 64, 67, 0.3), 0px 1px 3px 1px rgba(60, 64, 67, 0.15);\n",
              "      fill: #174EA6;\n",
              "    }\n",
              "\n",
              "    .colab-df-buttons div {\n",
              "      margin-bottom: 4px;\n",
              "    }\n",
              "\n",
              "    [theme=dark] .colab-df-convert {\n",
              "      background-color: #3B4455;\n",
              "      fill: #D2E3FC;\n",
              "    }\n",
              "\n",
              "    [theme=dark] .colab-df-convert:hover {\n",
              "      background-color: #434B5C;\n",
              "      box-shadow: 0px 1px 3px 1px rgba(0, 0, 0, 0.15);\n",
              "      filter: drop-shadow(0px 1px 2px rgba(0, 0, 0, 0.3));\n",
              "      fill: #FFFFFF;\n",
              "    }\n",
              "  </style>\n",
              "\n",
              "    <script>\n",
              "      const buttonEl =\n",
              "        document.querySelector('#df-108f740f-0e2c-4335-b41e-f82ac11bf289 button.colab-df-convert');\n",
              "      buttonEl.style.display =\n",
              "        google.colab.kernel.accessAllowed ? 'block' : 'none';\n",
              "\n",
              "      async function convertToInteractive(key) {\n",
              "        const element = document.querySelector('#df-108f740f-0e2c-4335-b41e-f82ac11bf289');\n",
              "        const dataTable =\n",
              "          await google.colab.kernel.invokeFunction('convertToInteractive',\n",
              "                                                    [key], {});\n",
              "        if (!dataTable) return;\n",
              "\n",
              "        const docLinkHtml = 'Like what you see? Visit the ' +\n",
              "          '<a target=\"_blank\" href=https://colab.research.google.com/notebooks/data_table.ipynb>data table notebook</a>'\n",
              "          + ' to learn more about interactive tables.';\n",
              "        element.innerHTML = '';\n",
              "        dataTable['output_type'] = 'display_data';\n",
              "        await google.colab.output.renderOutput(dataTable, element);\n",
              "        const docLink = document.createElement('div');\n",
              "        docLink.innerHTML = docLinkHtml;\n",
              "        element.appendChild(docLink);\n",
              "      }\n",
              "    </script>\n",
              "  </div>\n",
              "\n",
              "\n",
              "<div id=\"df-1f334600-fed1-4d4d-8219-1d2354459c0c\">\n",
              "  <button class=\"colab-df-quickchart\" onclick=\"quickchart('df-1f334600-fed1-4d4d-8219-1d2354459c0c')\"\n",
              "            title=\"Suggest charts\"\n",
              "            style=\"display:none;\">\n",
              "\n",
              "<svg xmlns=\"http://www.w3.org/2000/svg\" height=\"24px\"viewBox=\"0 0 24 24\"\n",
              "     width=\"24px\">\n",
              "    <g>\n",
              "        <path d=\"M19 3H5c-1.1 0-2 .9-2 2v14c0 1.1.9 2 2 2h14c1.1 0 2-.9 2-2V5c0-1.1-.9-2-2-2zM9 17H7v-7h2v7zm4 0h-2V7h2v10zm4 0h-2v-4h2v4z\"/>\n",
              "    </g>\n",
              "</svg>\n",
              "  </button>\n",
              "\n",
              "<style>\n",
              "  .colab-df-quickchart {\n",
              "      --bg-color: #E8F0FE;\n",
              "      --fill-color: #1967D2;\n",
              "      --hover-bg-color: #E2EBFA;\n",
              "      --hover-fill-color: #174EA6;\n",
              "      --disabled-fill-color: #AAA;\n",
              "      --disabled-bg-color: #DDD;\n",
              "  }\n",
              "\n",
              "  [theme=dark] .colab-df-quickchart {\n",
              "      --bg-color: #3B4455;\n",
              "      --fill-color: #D2E3FC;\n",
              "      --hover-bg-color: #434B5C;\n",
              "      --hover-fill-color: #FFFFFF;\n",
              "      --disabled-bg-color: #3B4455;\n",
              "      --disabled-fill-color: #666;\n",
              "  }\n",
              "\n",
              "  .colab-df-quickchart {\n",
              "    background-color: var(--bg-color);\n",
              "    border: none;\n",
              "    border-radius: 50%;\n",
              "    cursor: pointer;\n",
              "    display: none;\n",
              "    fill: var(--fill-color);\n",
              "    height: 32px;\n",
              "    padding: 0;\n",
              "    width: 32px;\n",
              "  }\n",
              "\n",
              "  .colab-df-quickchart:hover {\n",
              "    background-color: var(--hover-bg-color);\n",
              "    box-shadow: 0 1px 2px rgba(60, 64, 67, 0.3), 0 1px 3px 1px rgba(60, 64, 67, 0.15);\n",
              "    fill: var(--button-hover-fill-color);\n",
              "  }\n",
              "\n",
              "  .colab-df-quickchart-complete:disabled,\n",
              "  .colab-df-quickchart-complete:disabled:hover {\n",
              "    background-color: var(--disabled-bg-color);\n",
              "    fill: var(--disabled-fill-color);\n",
              "    box-shadow: none;\n",
              "  }\n",
              "\n",
              "  .colab-df-spinner {\n",
              "    border: 2px solid var(--fill-color);\n",
              "    border-color: transparent;\n",
              "    border-bottom-color: var(--fill-color);\n",
              "    animation:\n",
              "      spin 1s steps(1) infinite;\n",
              "  }\n",
              "\n",
              "  @keyframes spin {\n",
              "    0% {\n",
              "      border-color: transparent;\n",
              "      border-bottom-color: var(--fill-color);\n",
              "      border-left-color: var(--fill-color);\n",
              "    }\n",
              "    20% {\n",
              "      border-color: transparent;\n",
              "      border-left-color: var(--fill-color);\n",
              "      border-top-color: var(--fill-color);\n",
              "    }\n",
              "    30% {\n",
              "      border-color: transparent;\n",
              "      border-left-color: var(--fill-color);\n",
              "      border-top-color: var(--fill-color);\n",
              "      border-right-color: var(--fill-color);\n",
              "    }\n",
              "    40% {\n",
              "      border-color: transparent;\n",
              "      border-right-color: var(--fill-color);\n",
              "      border-top-color: var(--fill-color);\n",
              "    }\n",
              "    60% {\n",
              "      border-color: transparent;\n",
              "      border-right-color: var(--fill-color);\n",
              "    }\n",
              "    80% {\n",
              "      border-color: transparent;\n",
              "      border-right-color: var(--fill-color);\n",
              "      border-bottom-color: var(--fill-color);\n",
              "    }\n",
              "    90% {\n",
              "      border-color: transparent;\n",
              "      border-bottom-color: var(--fill-color);\n",
              "    }\n",
              "  }\n",
              "</style>\n",
              "\n",
              "  <script>\n",
              "    async function quickchart(key) {\n",
              "      const quickchartButtonEl =\n",
              "        document.querySelector('#' + key + ' button');\n",
              "      quickchartButtonEl.disabled = true;  // To prevent multiple clicks.\n",
              "      quickchartButtonEl.classList.add('colab-df-spinner');\n",
              "      try {\n",
              "        const charts = await google.colab.kernel.invokeFunction(\n",
              "            'suggestCharts', [key], {});\n",
              "      } catch (error) {\n",
              "        console.error('Error during call to suggestCharts:', error);\n",
              "      }\n",
              "      quickchartButtonEl.classList.remove('colab-df-spinner');\n",
              "      quickchartButtonEl.classList.add('colab-df-quickchart-complete');\n",
              "    }\n",
              "    (() => {\n",
              "      let quickchartButtonEl =\n",
              "        document.querySelector('#df-1f334600-fed1-4d4d-8219-1d2354459c0c button');\n",
              "      quickchartButtonEl.style.display =\n",
              "        google.colab.kernel.accessAllowed ? 'block' : 'none';\n",
              "    })();\n",
              "  </script>\n",
              "</div>\n",
              "\n",
              "    </div>\n",
              "  </div>\n"
            ],
            "application/vnd.google.colaboratory.intrinsic+json": {
              "type": "dataframe",
              "variable_name": "acesso_bl_2023_colunas"
            }
          },
          "metadata": {},
          "execution_count": 29
        }
      ]
    },
    {
      "cell_type": "markdown",
      "source": [
        "\n",
        "\n",
        "---\n",
        "\n"
      ],
      "metadata": {
        "id": "jnRPmB-pD_Tp"
      }
    },
    {
      "cell_type": "markdown",
      "source": [
        "#**<font color=#85d338 size=\"6\"> 3. Análise de Dados Inicial**"
      ],
      "metadata": {
        "id": "myGUk7lGECes"
      }
    },
    {
      "cell_type": "markdown",
      "source": [
        "###**<font color=#85d338> 3.1. Estatísticas Descritivas**"
      ],
      "metadata": {
        "id": "5NSbJBQQEMdz"
      }
    },
    {
      "cell_type": "markdown",
      "source": [
        "Compreende a organização, o resumo e, descrever os dados, que podem ser expressos em tabelas e gráficos.\n",
        ">\n",
        "Veremos a seguir alguns comandos para exibir algumas estatísticas descritivas.\n",
        ">\n",
        "---"
      ],
      "metadata": {
        "id": "NSIMONFZEXD6"
      }
    },
    {
      "cell_type": "code",
      "source": [
        "#\tQuantidade de atributos e instâncias (linhas/colunas)\n",
        "acesso_bl_2023.shape"
      ],
      "metadata": {
        "colab": {
          "base_uri": "https://localhost:8080/"
        },
        "id": "_YHNElBbHwLV",
        "outputId": "6e43aa8b-f70c-4a15-9b82-aab9693a855b"
      },
      "execution_count": 30,
      "outputs": [
        {
          "output_type": "execute_result",
          "data": {
            "text/plain": [
              "(7987641, 16)"
            ]
          },
          "metadata": {},
          "execution_count": 30
        }
      ]
    },
    {
      "cell_type": "code",
      "source": [
        "acesso_bl_2023_colunas.shape"
      ],
      "metadata": {
        "colab": {
          "base_uri": "https://localhost:8080/"
        },
        "id": "REmVQIUfHel_",
        "outputId": "77355b2c-6b0e-4f5e-c6ee-6d240822115a"
      },
      "execution_count": 31,
      "outputs": [
        {
          "output_type": "execute_result",
          "data": {
            "text/plain": [
              "(880905, 25)"
            ]
          },
          "metadata": {},
          "execution_count": 31
        }
      ]
    },
    {
      "cell_type": "code",
      "source": [
        "# verificando os tipos de dados de cada coluna do dataframe\n",
        "acesso_bl_2023.dtypes"
      ],
      "metadata": {
        "colab": {
          "base_uri": "https://localhost:8080/"
        },
        "id": "l22b3TlcH1No",
        "outputId": "71b0946f-6535-46fb-f67a-9ade15578838"
      },
      "execution_count": 32,
      "outputs": [
        {
          "output_type": "execute_result",
          "data": {
            "text/plain": [
              "Ano                        int64\n",
              "Mês                        int64\n",
              "Grupo Econômico           object\n",
              "Empresa                   object\n",
              "CNPJ                       int64\n",
              "Porte da Prestadora       object\n",
              "UF                        object\n",
              "Município                 object\n",
              "Código IBGE Município      int64\n",
              "Faixa de Velocidade       object\n",
              "Velocidade               float64\n",
              "Tecnologia                object\n",
              "Meio de Acesso            object\n",
              "Tipo de Pessoa            object\n",
              "Tipo de Produto           object\n",
              "Acessos                    int64\n",
              "dtype: object"
            ]
          },
          "metadata": {},
          "execution_count": 32
        }
      ]
    },
    {
      "cell_type": "code",
      "source": [
        "acesso_bl_2023_colunas.dtypes"
      ],
      "metadata": {
        "colab": {
          "base_uri": "https://localhost:8080/"
        },
        "id": "4PFQoH_qHiw_",
        "outputId": "7623db74-e8a3-46f1-96c7-c98fd471b490"
      },
      "execution_count": 33,
      "outputs": [
        {
          "output_type": "execute_result",
          "data": {
            "text/plain": [
              "CNPJ                       int64\n",
              "Velocidade               float64\n",
              "Município                 object\n",
              "UF                        object\n",
              "Faixa de Velocidade       object\n",
              "Tecnologia                object\n",
              "Empresa                   object\n",
              "Porte da Prestadora       object\n",
              "Tipo de Pessoa            object\n",
              "Tipo de Produto           object\n",
              "Código IBGE Município      int64\n",
              "Grupo Econômico           object\n",
              "Meio de Acesso            object\n",
              "2023-01                  float64\n",
              "2023-02                  float64\n",
              "2023-03                  float64\n",
              "2023-04                  float64\n",
              "2023-05                  float64\n",
              "2023-06                  float64\n",
              "2023-07                  float64\n",
              "2023-08                  float64\n",
              "2023-09                  float64\n",
              "2023-10                  float64\n",
              "2023-11                  float64\n",
              "2023-12                  float64\n",
              "dtype: object"
            ]
          },
          "metadata": {},
          "execution_count": 33
        }
      ]
    },
    {
      "cell_type": "code",
      "source": [
        "# Mostra diversas informações do Dataframe em um único comando, e exibir o uso de memória\n",
        "acesso_bl_2023.info(memory_usage=\"deep\")"
      ],
      "metadata": {
        "colab": {
          "base_uri": "https://localhost:8080/"
        },
        "id": "8v8g3T3MH9zk",
        "outputId": "b3e16e42-5648-46ba-97d5-74b658b2e5da"
      },
      "execution_count": 34,
      "outputs": [
        {
          "output_type": "stream",
          "name": "stdout",
          "text": [
            "<class 'pandas.core.frame.DataFrame'>\n",
            "RangeIndex: 7987641 entries, 0 to 7987640\n",
            "Data columns (total 16 columns):\n",
            " #   Column                 Dtype  \n",
            "---  ------                 -----  \n",
            " 0   Ano                    int64  \n",
            " 1   Mês                    int64  \n",
            " 2   Grupo Econômico        object \n",
            " 3   Empresa                object \n",
            " 4   CNPJ                   int64  \n",
            " 5   Porte da Prestadora    object \n",
            " 6   UF                     object \n",
            " 7   Município              object \n",
            " 8   Código IBGE Município  int64  \n",
            " 9   Faixa de Velocidade    object \n",
            " 10  Velocidade             float64\n",
            " 11  Tecnologia             object \n",
            " 12  Meio de Acesso         object \n",
            " 13  Tipo de Pessoa         object \n",
            " 14  Tipo de Produto        object \n",
            " 15  Acessos                int64  \n",
            "dtypes: float64(1), int64(5), object(10)\n",
            "memory usage: 5.6 GB\n"
          ]
        }
      ]
    },
    {
      "cell_type": "code",
      "source": [
        "acesso_bl_2023_colunas.info(memory_usage=\"deep\")"
      ],
      "metadata": {
        "colab": {
          "base_uri": "https://localhost:8080/"
        },
        "id": "367E4Su-Hpr8",
        "outputId": "efc6d861-bef2-444e-9e1f-f5c7fc92fbe5"
      },
      "execution_count": 35,
      "outputs": [
        {
          "output_type": "stream",
          "name": "stdout",
          "text": [
            "<class 'pandas.core.frame.DataFrame'>\n",
            "RangeIndex: 880905 entries, 0 to 880904\n",
            "Data columns (total 25 columns):\n",
            " #   Column                 Non-Null Count   Dtype  \n",
            "---  ------                 --------------   -----  \n",
            " 0   CNPJ                   880905 non-null  int64  \n",
            " 1   Velocidade             880905 non-null  float64\n",
            " 2   Município              880905 non-null  object \n",
            " 3   UF                     880905 non-null  object \n",
            " 4   Faixa de Velocidade    880905 non-null  object \n",
            " 5   Tecnologia             880905 non-null  object \n",
            " 6   Empresa                880821 non-null  object \n",
            " 7   Porte da Prestadora    880821 non-null  object \n",
            " 8   Tipo de Pessoa         880905 non-null  object \n",
            " 9   Tipo de Produto        880905 non-null  object \n",
            " 10  Código IBGE Município  880905 non-null  int64  \n",
            " 11  Grupo Econômico        880821 non-null  object \n",
            " 12  Meio de Acesso         880905 non-null  object \n",
            " 13  2023-01                556703 non-null  float64\n",
            " 14  2023-02                566546 non-null  float64\n",
            " 15  2023-03                576829 non-null  float64\n",
            " 16  2023-04                571501 non-null  float64\n",
            " 17  2023-05                584520 non-null  float64\n",
            " 18  2023-06                586962 non-null  float64\n",
            " 19  2023-07                594466 non-null  float64\n",
            " 20  2023-08                596917 non-null  float64\n",
            " 21  2023-09                597794 non-null  float64\n",
            " 22  2023-10                606430 non-null  float64\n",
            " 23  2023-11                607269 non-null  float64\n",
            " 24  2023-12                603660 non-null  float64\n",
            "dtypes: float64(13), int64(2), object(10)\n",
            "memory usage: 698.8 MB\n"
          ]
        }
      ]
    },
    {
      "cell_type": "markdown",
      "source": [
        "A função info() da biblioteca pandas, nos fornece um resumo do dataframe, sendo muito útil para ter uma visão geral do conjunto de dados.\n",
        ">\n",
        "Usando o parâmetro memory_usage = “deep”, saberemos exatamente quanto de memória o dataframe está utilizando.\n",
        ">\n",
        "Sendo assim, depois dos processos de transformações de dados saberemos se tivemos algum ganho de memoria no dataframe.\n",
        ">\n",
        "Inicialmente o dataframe detalhado está ocupando 5.6 Gigas de espaço.\n",
        ">\n",
        "O dataframe agrupado por coluna está ocupando 700 Mb de espaço."
      ],
      "metadata": {
        "id": "sxfJmLFTIMNK"
      }
    },
    {
      "cell_type": "code",
      "execution_count": 36,
      "metadata": {
        "colab": {
          "base_uri": "https://localhost:8080/"
        },
        "id": "Uy2Vl-6Y8Gwc",
        "outputId": "e87759ab-19e5-4d05-a881-0bd317366898"
      },
      "outputs": [
        {
          "output_type": "execute_result",
          "data": {
            "text/plain": [
              "Ano                          2\n",
              "Mês                         12\n",
              "Grupo Econômico             25\n",
              "Empresa                  10093\n",
              "CNPJ                     10113\n",
              "Porte da Prestadora          2\n",
              "UF                          27\n",
              "Município                 5297\n",
              "Código IBGE Município     5570\n",
              "Faixa de Velocidade          5\n",
              "Velocidade               11213\n",
              "Tecnologia                  28\n",
              "Meio de Acesso               5\n",
              "Tipo de Pessoa               2\n",
              "Tipo de Produto              4\n",
              "Acessos                  14493\n",
              "dtype: int64"
            ]
          },
          "metadata": {},
          "execution_count": 36
        }
      ],
      "source": [
        "# Quantidade de valores únicos\n",
        "acesso_bl_2023.nunique()"
      ]
    },
    {
      "cell_type": "code",
      "source": [
        "acesso_bl_2023_colunas.nunique()"
      ],
      "metadata": {
        "colab": {
          "base_uri": "https://localhost:8080/"
        },
        "id": "EpvkifMNH5S1",
        "outputId": "a856e3aa-483a-4b47-9046-0f77ab490d8e"
      },
      "execution_count": 37,
      "outputs": [
        {
          "output_type": "execute_result",
          "data": {
            "text/plain": [
              "CNPJ                     10023\n",
              "Velocidade               10805\n",
              "Município                 5297\n",
              "UF                          27\n",
              "Faixa de Velocidade          5\n",
              "Tecnologia                  27\n",
              "Empresa                   9966\n",
              "Porte da Prestadora          2\n",
              "Tipo de Pessoa               2\n",
              "Tipo de Produto              4\n",
              "Código IBGE Município     5570\n",
              "Grupo Econômico             25\n",
              "Meio de Acesso               5\n",
              "2023-01                   4444\n",
              "2023-02                   4434\n",
              "2023-03                   4464\n",
              "2023-04                   4489\n",
              "2023-05                   4490\n",
              "2023-06                   4506\n",
              "2023-07                   4501\n",
              "2023-08                   4536\n",
              "2023-09                   4524\n",
              "2023-10                   4621\n",
              "2023-11                   4583\n",
              "2023-12                   4538\n",
              "dtype: int64"
            ]
          },
          "metadata": {},
          "execution_count": 37
        }
      ]
    },
    {
      "cell_type": "code",
      "execution_count": 38,
      "metadata": {
        "colab": {
          "base_uri": "https://localhost:8080/"
        },
        "id": "mCEX2N_R7ojp",
        "outputId": "6a2c4cfa-522d-4777-b313-0401d938e9c1"
      },
      "outputs": [
        {
          "output_type": "execute_result",
          "data": {
            "text/plain": [
              "Ano                        0\n",
              "Mês                        0\n",
              "Grupo Econômico          396\n",
              "Empresa                  396\n",
              "CNPJ                       0\n",
              "Porte da Prestadora      396\n",
              "UF                         0\n",
              "Município                  0\n",
              "Código IBGE Município      0\n",
              "Faixa de Velocidade        0\n",
              "Velocidade                 0\n",
              "Tecnologia                 0\n",
              "Meio de Acesso             0\n",
              "Tipo de Pessoa             0\n",
              "Tipo de Produto            0\n",
              "Acessos                    0\n",
              "dtype: int64"
            ]
          },
          "metadata": {},
          "execution_count": 38
        }
      ],
      "source": [
        "# Quantidade de NaN/Missing/Nulls no dataframe\n",
        "acesso_bl_2023.isnull().sum()"
      ]
    },
    {
      "cell_type": "markdown",
      "source": [
        "Nesse DF 3 atributos, apresentam registros nulos, que deverão ser tratados na etapa de pre-processamento de dados."
      ],
      "metadata": {
        "id": "XrrYj6lUI6PP"
      }
    },
    {
      "cell_type": "code",
      "source": [
        "# Quantidade de NaN/Missing/Nulls no dataframe\n",
        "acesso_bl_2023_colunas.isnull().sum()"
      ],
      "metadata": {
        "colab": {
          "base_uri": "https://localhost:8080/"
        },
        "id": "wbnetl6BH-mF",
        "outputId": "6b8067d6-5786-4bc7-c113-4f393761936f"
      },
      "execution_count": 39,
      "outputs": [
        {
          "output_type": "execute_result",
          "data": {
            "text/plain": [
              "CNPJ                          0\n",
              "Velocidade                    0\n",
              "Município                     0\n",
              "UF                            0\n",
              "Faixa de Velocidade           0\n",
              "Tecnologia                    0\n",
              "Empresa                      84\n",
              "Porte da Prestadora          84\n",
              "Tipo de Pessoa                0\n",
              "Tipo de Produto               0\n",
              "Código IBGE Município         0\n",
              "Grupo Econômico              84\n",
              "Meio de Acesso                0\n",
              "2023-01                  324202\n",
              "2023-02                  314359\n",
              "2023-03                  304076\n",
              "2023-04                  309404\n",
              "2023-05                  296385\n",
              "2023-06                  293943\n",
              "2023-07                  286439\n",
              "2023-08                  283988\n",
              "2023-09                  283111\n",
              "2023-10                  274475\n",
              "2023-11                  273636\n",
              "2023-12                  277245\n",
              "dtype: int64"
            ]
          },
          "metadata": {},
          "execution_count": 39
        }
      ]
    },
    {
      "cell_type": "markdown",
      "source": [
        "#**<font color=#85d338> 4. Pré-Processamento de dados**"
      ],
      "metadata": {
        "id": "0oXYyQtSK7yF"
      }
    },
    {
      "cell_type": "markdown",
      "source": [
        "Após coletar e analisar os dados na etapa anterior, agora é o momento\n",
        "de limpar, transformar e apresentar melhor os dados.\n",
        ">\n",
        "Assim poderemos obter, na próxima etapa, os melhores resultados possíveis nos algoritmos de\n",
        "Machine Learning, ou simplesmente apresentar dados mais confiáveis para os clientes em soluções de\n",
        "business intelligence.\n",
        "\n",
        "\n",
        "---\n"
      ],
      "metadata": {
        "id": "SZB-J8G9LDuY"
      }
    },
    {
      "cell_type": "markdown",
      "source": [
        "###**<font color=#85d338> 4.1. Limpeza**"
      ],
      "metadata": {
        "id": "b0GjmSo_Le18"
      }
    },
    {
      "cell_type": "markdown",
      "source": [
        "####**<font color=#85d338> 4.1.1 Nomenclatura**"
      ],
      "metadata": {
        "id": "TbMZXnH9Lq2B"
      }
    },
    {
      "cell_type": "markdown",
      "source": [
        "Nessa etpa iremos alterar o nome dos atributos\n",
        ">\n",
        "Retirando o \"espaços\" entre os nomes, os acentos e os caractéres especiais\n"
      ],
      "metadata": {
        "id": "f144Z8P7Lu1C"
      }
    },
    {
      "cell_type": "code",
      "source": [
        "#Renomeando as colunas\n",
        "acesso_bl_2023.rename(columns={ 'Ano': 'ano',\n",
        "                                'Mês': 'mes',\n",
        "                                'Grupo Econômico': 'grupo_economico',\n",
        "                                'Empresa': 'empresa',\n",
        "                                'Porte da Prestadora': 'porte_prestadora',\n",
        "                                'Município': 'municipio',\n",
        "                                'Código IBGE Município': 'codigo_ibge',\n",
        "                                'Faixa de Velocidade': 'faixa_velocidade',\n",
        "                                'Meio de Acesso': 'meio_acesso',\n",
        "                                'Tipo de Pessoa': 'tipo_pessoa',\n",
        "                                'Tipo de Produto': 'tipo_produto'\n",
        "                              },\n",
        "                      inplace=True)"
      ],
      "metadata": {
        "id": "M5P26MExNCi0"
      },
      "execution_count": 40,
      "outputs": []
    },
    {
      "cell_type": "code",
      "source": [
        "#Renomeando as colunas\n",
        "acesso_bl_2023_colunas.rename(columns={ 'Ano': 'ano',\n",
        "                                'Mês': 'mes',\n",
        "                                'Grupo Econômico': 'grupo_economico',\n",
        "                                'Empresa': 'empresa',\n",
        "                                'Porte da Prestadora': 'porte_prestadora',\n",
        "                                'Município': 'municipio',\n",
        "                                'Código IBGE Município': 'codigo_ibge',\n",
        "                                'Faixa de Velocidade': 'faixa_velocidade',\n",
        "                                'Meio de Acesso': 'meio_acesso',\n",
        "                                'Tipo de Pessoa': 'tipo_pessoa',\n",
        "                                'Tipo de Produto': 'tipo_produto'\n",
        "                              },\n",
        "                      inplace=True)"
      ],
      "metadata": {
        "id": "cdIK3W94IHhJ"
      },
      "execution_count": 41,
      "outputs": []
    },
    {
      "cell_type": "markdown",
      "source": [
        "####**<font color=#85d338> 4.1.2 Redundâncias**\n",
        "\n"
      ],
      "metadata": {
        "id": "uPmoO_4CLlXa"
      }
    },
    {
      "cell_type": "markdown",
      "source": [
        "Vamos eliminar as colunas que não iremos utilizar em nossas analises.\n",
        ">\n",
        "A ideia é ter um dataframe mais leve, e com pouco espaço em disco."
      ],
      "metadata": {
        "id": "lUdRb8nKUezl"
      }
    },
    {
      "cell_type": "code",
      "source": [
        "acesso_bl_2023.drop(['CNPJ',\n",
        "                     'municipio',\n",
        "                     'codigo_ibge',\n",
        "                     'faixa_velocidade',\n",
        "                     'Velocidade',\n",
        "                     'Tecnologia',\n",
        "                     'tipo_produto'\n",
        "                     ], axis=1, inplace= True)"
      ],
      "metadata": {
        "id": "FifTCPfbUX4s"
      },
      "execution_count": 42,
      "outputs": []
    },
    {
      "cell_type": "code",
      "source": [
        "acesso_bl_2023_colunas.drop(['CNPJ',\n",
        "                     'municipio',\n",
        "                     'codigo_ibge',\n",
        "                     'faixa_velocidade',\n",
        "                     'Velocidade',\n",
        "                     'Tecnologia',\n",
        "                     'tipo_produto'\n",
        "                     ], axis=1, inplace= True)"
      ],
      "metadata": {
        "id": "15ZObjHrIOyx"
      },
      "execution_count": 43,
      "outputs": []
    },
    {
      "cell_type": "markdown",
      "source": [
        "####**<font color=#85d338> 4.1.3 Tratamento de Missings**"
      ],
      "metadata": {
        "id": "NQrSbLrkKdIE"
      }
    },
    {
      "cell_type": "markdown",
      "source": [
        "O arquivo agrupado em colunas foi o que mais apresentou campos nulos(missings/NaN).\n",
        ">\n",
        "Iremos tratar todas as colunas."
      ],
      "metadata": {
        "id": "4zypSjGSKkgz"
      }
    },
    {
      "cell_type": "code",
      "source": [
        "ms.matrix(acesso_bl_2023_colunas)"
      ],
      "metadata": {
        "colab": {
          "base_uri": "https://localhost:8080/",
          "height": 538
        },
        "id": "HmLAxRQFKWPQ",
        "outputId": "d32642df-c69a-43c4-a549-1215236fb633"
      },
      "execution_count": 44,
      "outputs": [
        {
          "output_type": "execute_result",
          "data": {
            "text/plain": [
              "<Axes: >"
            ]
          },
          "metadata": {},
          "execution_count": 44
        },
        {
          "output_type": "display_data",
          "data": {
            "text/plain": [
              "<Figure size 2500x1000 with 2 Axes>"
            ],
            "image/png": "[encoded data removed]"
          },
          "metadata": {}
        }
      ]
    },
    {
      "cell_type": "code",
      "source": [
        "#Verificando o percentual de registros nulos\n",
        "(acesso_bl_2023_colunas.isnull().sum()/acesso_bl_2023_colunas.shape[0]*100).round(2)"
      ],
      "metadata": {
        "colab": {
          "base_uri": "https://localhost:8080/"
        },
        "id": "_xz1kqRtK6KH",
        "outputId": "b45d1695-77d8-493a-c6fb-35b8bd328405"
      },
      "execution_count": 45,
      "outputs": [
        {
          "output_type": "execute_result",
          "data": {
            "text/plain": [
              "UF                   0.00\n",
              "empresa              0.01\n",
              "porte_prestadora     0.01\n",
              "tipo_pessoa          0.00\n",
              "grupo_economico      0.01\n",
              "meio_acesso          0.00\n",
              "2023-01             36.80\n",
              "2023-02             35.69\n",
              "2023-03             34.52\n",
              "2023-04             35.12\n",
              "2023-05             33.65\n",
              "2023-06             33.37\n",
              "2023-07             32.52\n",
              "2023-08             32.24\n",
              "2023-09             32.14\n",
              "2023-10             31.16\n",
              "2023-11             31.06\n",
              "2023-12             31.47\n",
              "dtype: float64"
            ]
          },
          "metadata": {},
          "execution_count": 45
        }
      ]
    },
    {
      "cell_type": "code",
      "source": [
        "acesso_bl_2023_colunas['2023-01'].fillna(0, inplace=True)\n",
        "acesso_bl_2023_colunas['2023-02'].fillna(0, inplace=True)\n",
        "acesso_bl_2023_colunas['2023-03'].fillna(0, inplace=True)\n",
        "acesso_bl_2023_colunas['2023-04'].fillna(0, inplace=True)\n",
        "acesso_bl_2023_colunas['2023-05'].fillna(0, inplace=True)\n",
        "acesso_bl_2023_colunas['2023-06'].fillna(0, inplace=True)\n",
        "acesso_bl_2023_colunas['2023-07'].fillna(0, inplace=True)\n",
        "acesso_bl_2023_colunas['2023-08'].fillna(0, inplace=True)\n",
        "acesso_bl_2023_colunas['2023-09'].fillna(0, inplace=True)\n",
        "acesso_bl_2023_colunas['2023-10'].fillna(0, inplace=True)\n",
        "acesso_bl_2023_colunas['2023-11'].fillna(0, inplace=True)\n",
        "acesso_bl_2023_colunas['2023-12'].fillna(0, inplace=True)"
      ],
      "metadata": {
        "id": "7LPLSfEQLEDU"
      },
      "execution_count": 46,
      "outputs": []
    },
    {
      "cell_type": "code",
      "source": [
        "acesso_bl_2023_colunas.isnull().sum()"
      ],
      "metadata": {
        "colab": {
          "base_uri": "https://localhost:8080/"
        },
        "id": "MTsnAu1DLVga",
        "outputId": "ec68d3dd-1a26-417b-bccc-99cf3cc9d14c"
      },
      "execution_count": 47,
      "outputs": [
        {
          "output_type": "execute_result",
          "data": {
            "text/plain": [
              "UF                   0\n",
              "empresa             84\n",
              "porte_prestadora    84\n",
              "tipo_pessoa          0\n",
              "grupo_economico     84\n",
              "meio_acesso          0\n",
              "2023-01              0\n",
              "2023-02              0\n",
              "2023-03              0\n",
              "2023-04              0\n",
              "2023-05              0\n",
              "2023-06              0\n",
              "2023-07              0\n",
              "2023-08              0\n",
              "2023-09              0\n",
              "2023-10              0\n",
              "2023-11              0\n",
              "2023-12              0\n",
              "dtype: int64"
            ]
          },
          "metadata": {},
          "execution_count": 47
        }
      ]
    },
    {
      "cell_type": "markdown",
      "source": [
        "####**<font color=#85d338> 4.1.4 Outros**"
      ],
      "metadata": {
        "id": "xFW-K4A1YY6y"
      }
    },
    {
      "cell_type": "markdown",
      "source": [
        "Para reduzir mais o tamanho do DataFrame, vou substituir, no atributo: Tipo_pessoa\n",
        ">\n",
        "Os caracteres de Pessoa Juridica para PJ, e\n",
        ">\n",
        "Pessoa física para PF"
      ],
      "metadata": {
        "id": "dJNeVfpJYciF"
      }
    },
    {
      "cell_type": "code",
      "source": [
        "acesso_bl_2023.tipo_pessoa.value_counts(normalize=True)"
      ],
      "metadata": {
        "colab": {
          "base_uri": "https://localhost:8080/"
        },
        "id": "yVwRvplnYAhq",
        "outputId": "63942905-4cbf-461f-bb7f-5ef82f5be9ec"
      },
      "execution_count": 48,
      "outputs": [
        {
          "output_type": "execute_result",
          "data": {
            "text/plain": [
              "tipo_pessoa\n",
              "Pessoa Jurídica    0.584267\n",
              "Pessoa Física      0.415733\n",
              "Name: proportion, dtype: float64"
            ]
          },
          "metadata": {},
          "execution_count": 48
        }
      ]
    },
    {
      "cell_type": "code",
      "source": [
        "acesso_bl_2023.tipo_pessoa =  acesso_bl_2023.tipo_pessoa.str.replace('Pessoa Jurídica','PJ')\n",
        "acesso_bl_2023.tipo_pessoa =  acesso_bl_2023.tipo_pessoa.str.replace('Pessoa Física','PF')"
      ],
      "metadata": {
        "id": "4T3l9z1SW1ux"
      },
      "execution_count": 49,
      "outputs": []
    },
    {
      "cell_type": "markdown",
      "source": [
        "\n",
        "\n",
        "---\n",
        "\n"
      ],
      "metadata": {
        "id": "rlEc1e7taEnR"
      }
    },
    {
      "cell_type": "markdown",
      "source": [
        "###**<font color=#85d338> 4.2 Redução da dimensionalidade**"
      ],
      "metadata": {
        "id": "DzlarkVLa2IY"
      }
    },
    {
      "cell_type": "markdown",
      "source": [
        "Os datasets podem ter muitas características, e muitos algoritmos de Machine Learning funcionam melhor se a dimensionalidade for menor."
      ],
      "metadata": {
        "id": "WWqAnzxWbDwL"
      }
    },
    {
      "cell_type": "markdown",
      "source": [
        "####**<font color=#85d338> 4.2.1 Agregação**"
      ],
      "metadata": {
        "id": "5hMSgN8dbKHD"
      }
    },
    {
      "cell_type": "markdown",
      "source": [
        "Também pode ser considerada uma técnica de redução de dimensionalidade, pois reduz o número de colunas e linhas do dataset.\n",
        ">\n",
        "O nosso dataset, é aberto por Municipio, e nesse momento não iremos analisar nessa granularidade.\n",
        ">\n",
        "Vamos criar um dataset agregado com a visão por UF, agrupandos os atributos que não se repetem.\n",
        ">\n",
        "Assim, será possivel fazer analises mais rápidas, e ter um dataset menor para usar no Github e Streamlit."
      ],
      "metadata": {
        "id": "X4zxzfR-bSo8"
      }
    },
    {
      "cell_type": "code",
      "source": [
        "bl_fixa_2023 = acesso_bl_2023.groupby([\"ano\",\n",
        "                                              \"mes\",\n",
        "                                              \"grupo_economico\",\n",
        "                                              \"empresa\",\n",
        "                                              \"porte_prestadora\",\n",
        "                                              \"UF\",\n",
        "                                              \"meio_acesso\",\n",
        "                                              \"tipo_pessoa\"])['Acessos'].sum().reset_index()"
      ],
      "metadata": {
        "id": "ericB0a9cAXh"
      },
      "execution_count": 50,
      "outputs": []
    },
    {
      "cell_type": "code",
      "source": [
        "bl_fixa_2023.head()"
      ],
      "metadata": {
        "colab": {
          "base_uri": "https://localhost:8080/",
          "height": 206
        },
        "id": "7NmVOXO1cw28",
        "outputId": "bc240bdc-1e68-4299-f1f8-1950ea1d2599"
      },
      "execution_count": 51,
      "outputs": [
        {
          "output_type": "execute_result",
          "data": {
            "text/plain": [
              "    ano  mes grupo_economico empresa porte_prestadora  UF   meio_acesso  \\\n",
              "0  2022   12          ALARES  ALARES    Pequeno Porte  BA         Fibra   \n",
              "1  2022   12          ALARES  ALARES    Pequeno Porte  BA         Fibra   \n",
              "2  2022   12          ALARES  ALARES    Pequeno Porte  BA         Rádio   \n",
              "3  2022   12          ALARES  ALARES    Pequeno Porte  BA         Rádio   \n",
              "4  2022   12          ALARES  ALARES    Pequeno Porte  CE  Cabo Coaxial   \n",
              "\n",
              "  tipo_pessoa  Acessos  \n",
              "0          PF    15749  \n",
              "1          PJ      718  \n",
              "2          PF       10  \n",
              "3          PJ       10  \n",
              "4          PF     6830  "
            ],
            "text/html": [
              "\n",
              "  <div id=\"df-2aff790e-bb6d-410e-a8ed-1020367713bb\" class=\"colab-df-container\">\n",
              "    <div>\n",
              "<style scoped>\n",
              "    .dataframe tbody tr th:only-of-type {\n",
              "        vertical-align: middle;\n",
              "    }\n",
              "\n",
              "    .dataframe tbody tr th {\n",
              "        vertical-align: top;\n",
              "    }\n",
              "\n",
              "    .dataframe thead th {\n",
              "        text-align: right;\n",
              "    }\n",
              "</style>\n",
              "<table border=\"1\" class=\"dataframe\">\n",
              "  <thead>\n",
              "    <tr style=\"text-align: right;\">\n",
              "      <th></th>\n",
              "      <th>ano</th>\n",
              "      <th>mes</th>\n",
              "      <th>grupo_economico</th>\n",
              "      <th>empresa</th>\n",
              "      <th>porte_prestadora</th>\n",
              "      <th>UF</th>\n",
              "      <th>meio_acesso</th>\n",
              "      <th>tipo_pessoa</th>\n",
              "      <th>Acessos</th>\n",
              "    </tr>\n",
              "  </thead>\n",
              "  <tbody>\n",
              "    <tr>\n",
              "      <th>0</th>\n",
              "      <td>2022</td>\n",
              "      <td>12</td>\n",
              "      <td>ALARES</td>\n",
              "      <td>ALARES</td>\n",
              "      <td>Pequeno Porte</td>\n",
              "      <td>BA</td>\n",
              "      <td>Fibra</td>\n",
              "      <td>PF</td>\n",
              "      <td>15749</td>\n",
              "    </tr>\n",
              "    <tr>\n",
              "      <th>1</th>\n",
              "      <td>2022</td>\n",
              "      <td>12</td>\n",
              "      <td>ALARES</td>\n",
              "      <td>ALARES</td>\n",
              "      <td>Pequeno Porte</td>\n",
              "      <td>BA</td>\n",
              "      <td>Fibra</td>\n",
              "      <td>PJ</td>\n",
              "      <td>718</td>\n",
              "    </tr>\n",
              "    <tr>\n",
              "      <th>2</th>\n",
              "      <td>2022</td>\n",
              "      <td>12</td>\n",
              "      <td>ALARES</td>\n",
              "      <td>ALARES</td>\n",
              "      <td>Pequeno Porte</td>\n",
              "      <td>BA</td>\n",
              "      <td>Rádio</td>\n",
              "      <td>PF</td>\n",
              "      <td>10</td>\n",
              "    </tr>\n",
              "    <tr>\n",
              "      <th>3</th>\n",
              "      <td>2022</td>\n",
              "      <td>12</td>\n",
              "      <td>ALARES</td>\n",
              "      <td>ALARES</td>\n",
              "      <td>Pequeno Porte</td>\n",
              "      <td>BA</td>\n",
              "      <td>Rádio</td>\n",
              "      <td>PJ</td>\n",
              "      <td>10</td>\n",
              "    </tr>\n",
              "    <tr>\n",
              "      <th>4</th>\n",
              "      <td>2022</td>\n",
              "      <td>12</td>\n",
              "      <td>ALARES</td>\n",
              "      <td>ALARES</td>\n",
              "      <td>Pequeno Porte</td>\n",
              "      <td>CE</td>\n",
              "      <td>Cabo Coaxial</td>\n",
              "      <td>PF</td>\n",
              "      <td>6830</td>\n",
              "    </tr>\n",
              "  </tbody>\n",
              "</table>\n",
              "</div>\n",
              "    <div class=\"colab-df-buttons\">\n",
              "\n",
              "  <div class=\"colab-df-container\">\n",
              "    <button class=\"colab-df-convert\" onclick=\"convertToInteractive('df-2aff790e-bb6d-410e-a8ed-1020367713bb')\"\n",
              "            title=\"Convert this dataframe to an interactive table.\"\n",
              "            style=\"display:none;\">\n",
              "\n",
              "  <svg xmlns=\"http://www.w3.org/2000/svg\" height=\"24px\" viewBox=\"0 -960 960 960\">\n",
              "    <path d=\"M120-120v-720h720v720H120Zm60-500h600v-160H180v160Zm220 220h160v-160H400v160Zm0 220h160v-160H400v160ZM180-400h160v-160H180v160Zm440 0h160v-160H620v160ZM180-180h160v-160H180v160Zm440 0h160v-160H620v160Z\"/>\n",
              "  </svg>\n",
              "    </button>\n",
              "\n",
              "  <style>\n",
              "    .colab-df-container {\n",
              "      display:flex;\n",
              "      gap: 12px;\n",
              "    }\n",
              "\n",
              "    .colab-df-convert {\n",
              "      background-color: #E8F0FE;\n",
              "      border: none;\n",
              "      border-radius: 50%;\n",
              "      cursor: pointer;\n",
              "      display: none;\n",
              "      fill: #1967D2;\n",
              "      height: 32px;\n",
              "      padding: 0 0 0 0;\n",
              "      width: 32px;\n",
              "    }\n",
              "\n",
              "    .colab-df-convert:hover {\n",
              "      background-color: #E2EBFA;\n",
              "      box-shadow: 0px 1px 2px rgba(60, 64, 67, 0.3), 0px 1px 3px 1px rgba(60, 64, 67, 0.15);\n",
              "      fill: #174EA6;\n",
              "    }\n",
              "\n",
              "    .colab-df-buttons div {\n",
              "      margin-bottom: 4px;\n",
              "    }\n",
              "\n",
              "    [theme=dark] .colab-df-convert {\n",
              "      background-color: #3B4455;\n",
              "      fill: #D2E3FC;\n",
              "    }\n",
              "\n",
              "    [theme=dark] .colab-df-convert:hover {\n",
              "      background-color: #434B5C;\n",
              "      box-shadow: 0px 1px 3px 1px rgba(0, 0, 0, 0.15);\n",
              "      filter: drop-shadow(0px 1px 2px rgba(0, 0, 0, 0.3));\n",
              "      fill: #FFFFFF;\n",
              "    }\n",
              "  </style>\n",
              "\n",
              "    <script>\n",
              "      const buttonEl =\n",
              "        document.querySelector('#df-2aff790e-bb6d-410e-a8ed-1020367713bb button.colab-df-convert');\n",
              "      buttonEl.style.display =\n",
              "        google.colab.kernel.accessAllowed ? 'block' : 'none';\n",
              "\n",
              "      async function convertToInteractive(key) {\n",
              "        const element = document.querySelector('#df-2aff790e-bb6d-410e-a8ed-1020367713bb');\n",
              "        const dataTable =\n",
              "          await google.colab.kernel.invokeFunction('convertToInteractive',\n",
              "                                                    [key], {});\n",
              "        if (!dataTable) return;\n",
              "\n",
              "        const docLinkHtml = 'Like what you see? Visit the ' +\n",
              "          '<a target=\"_blank\" href=https://colab.research.google.com/notebooks/data_table.ipynb>data table notebook</a>'\n",
              "          + ' to learn more about interactive tables.';\n",
              "        element.innerHTML = '';\n",
              "        dataTable['output_type'] = 'display_data';\n",
              "        await google.colab.output.renderOutput(dataTable, element);\n",
              "        const docLink = document.createElement('div');\n",
              "        docLink.innerHTML = docLinkHtml;\n",
              "        element.appendChild(docLink);\n",
              "      }\n",
              "    </script>\n",
              "  </div>\n",
              "\n",
              "\n",
              "<div id=\"df-adec010a-d872-46f5-a6a4-0c0b5356e164\">\n",
              "  <button class=\"colab-df-quickchart\" onclick=\"quickchart('df-adec010a-d872-46f5-a6a4-0c0b5356e164')\"\n",
              "            title=\"Suggest charts\"\n",
              "            style=\"display:none;\">\n",
              "\n",
              "<svg xmlns=\"http://www.w3.org/2000/svg\" height=\"24px\"viewBox=\"0 0 24 24\"\n",
              "     width=\"24px\">\n",
              "    <g>\n",
              "        <path d=\"M19 3H5c-1.1 0-2 .9-2 2v14c0 1.1.9 2 2 2h14c1.1 0 2-.9 2-2V5c0-1.1-.9-2-2-2zM9 17H7v-7h2v7zm4 0h-2V7h2v10zm4 0h-2v-4h2v4z\"/>\n",
              "    </g>\n",
              "</svg>\n",
              "  </button>\n",
              "\n",
              "<style>\n",
              "  .colab-df-quickchart {\n",
              "      --bg-color: #E8F0FE;\n",
              "      --fill-color: #1967D2;\n",
              "      --hover-bg-color: #E2EBFA;\n",
              "      --hover-fill-color: #174EA6;\n",
              "      --disabled-fill-color: #AAA;\n",
              "      --disabled-bg-color: #DDD;\n",
              "  }\n",
              "\n",
              "  [theme=dark] .colab-df-quickchart {\n",
              "      --bg-color: #3B4455;\n",
              "      --fill-color: #D2E3FC;\n",
              "      --hover-bg-color: #434B5C;\n",
              "      --hover-fill-color: #FFFFFF;\n",
              "      --disabled-bg-color: #3B4455;\n",
              "      --disabled-fill-color: #666;\n",
              "  }\n",
              "\n",
              "  .colab-df-quickchart {\n",
              "    background-color: var(--bg-color);\n",
              "    border: none;\n",
              "    border-radius: 50%;\n",
              "    cursor: pointer;\n",
              "    display: none;\n",
              "    fill: var(--fill-color);\n",
              "    height: 32px;\n",
              "    padding: 0;\n",
              "    width: 32px;\n",
              "  }\n",
              "\n",
              "  .colab-df-quickchart:hover {\n",
              "    background-color: var(--hover-bg-color);\n",
              "    box-shadow: 0 1px 2px rgba(60, 64, 67, 0.3), 0 1px 3px 1px rgba(60, 64, 67, 0.15);\n",
              "    fill: var(--button-hover-fill-color);\n",
              "  }\n",
              "\n",
              "  .colab-df-quickchart-complete:disabled,\n",
              "  .colab-df-quickchart-complete:disabled:hover {\n",
              "    background-color: var(--disabled-bg-color);\n",
              "    fill: var(--disabled-fill-color);\n",
              "    box-shadow: none;\n",
              "  }\n",
              "\n",
              "  .colab-df-spinner {\n",
              "    border: 2px solid var(--fill-color);\n",
              "    border-color: transparent;\n",
              "    border-bottom-color: var(--fill-color);\n",
              "    animation:\n",
              "      spin 1s steps(1) infinite;\n",
              "  }\n",
              "\n",
              "  @keyframes spin {\n",
              "    0% {\n",
              "      border-color: transparent;\n",
              "      border-bottom-color: var(--fill-color);\n",
              "      border-left-color: var(--fill-color);\n",
              "    }\n",
              "    20% {\n",
              "      border-color: transparent;\n",
              "      border-left-color: var(--fill-color);\n",
              "      border-top-color: var(--fill-color);\n",
              "    }\n",
              "    30% {\n",
              "      border-color: transparent;\n",
              "      border-left-color: var(--fill-color);\n",
              "      border-top-color: var(--fill-color);\n",
              "      border-right-color: var(--fill-color);\n",
              "    }\n",
              "    40% {\n",
              "      border-color: transparent;\n",
              "      border-right-color: var(--fill-color);\n",
              "      border-top-color: var(--fill-color);\n",
              "    }\n",
              "    60% {\n",
              "      border-color: transparent;\n",
              "      border-right-color: var(--fill-color);\n",
              "    }\n",
              "    80% {\n",
              "      border-color: transparent;\n",
              "      border-right-color: var(--fill-color);\n",
              "      border-bottom-color: var(--fill-color);\n",
              "    }\n",
              "    90% {\n",
              "      border-color: transparent;\n",
              "      border-bottom-color: var(--fill-color);\n",
              "    }\n",
              "  }\n",
              "</style>\n",
              "\n",
              "  <script>\n",
              "    async function quickchart(key) {\n",
              "      const quickchartButtonEl =\n",
              "        document.querySelector('#' + key + ' button');\n",
              "      quickchartButtonEl.disabled = true;  // To prevent multiple clicks.\n",
              "      quickchartButtonEl.classList.add('colab-df-spinner');\n",
              "      try {\n",
              "        const charts = await google.colab.kernel.invokeFunction(\n",
              "            'suggestCharts', [key], {});\n",
              "      } catch (error) {\n",
              "        console.error('Error during call to suggestCharts:', error);\n",
              "      }\n",
              "      quickchartButtonEl.classList.remove('colab-df-spinner');\n",
              "      quickchartButtonEl.classList.add('colab-df-quickchart-complete');\n",
              "    }\n",
              "    (() => {\n",
              "      let quickchartButtonEl =\n",
              "        document.querySelector('#df-adec010a-d872-46f5-a6a4-0c0b5356e164 button');\n",
              "      quickchartButtonEl.style.display =\n",
              "        google.colab.kernel.accessAllowed ? 'block' : 'none';\n",
              "    })();\n",
              "  </script>\n",
              "</div>\n",
              "\n",
              "    </div>\n",
              "  </div>\n"
            ],
            "application/vnd.google.colaboratory.intrinsic+json": {
              "type": "dataframe",
              "variable_name": "bl_fixa_2023"
            }
          },
          "metadata": {},
          "execution_count": 51
        }
      ]
    },
    {
      "cell_type": "markdown",
      "source": [
        "O arquivo em colunas está aberto com a mesma granularidade do detalhado.\n",
        ">\n",
        "Vamos usar a mesma agregação."
      ],
      "metadata": {
        "id": "6I2rCrNOIenV"
      }
    },
    {
      "cell_type": "code",
      "source": [
        "bl_fixa_2023_colunas = acesso_bl_2023_colunas.groupby([\"grupo_economico\",\n",
        "                                                        \"empresa\",\n",
        "                                                        \"porte_prestadora\",\n",
        "                                                        \"UF\",\n",
        "                                                        \"meio_acesso\",\n",
        "                                                        \"tipo_pessoa\"]).sum(['2023-01','2023-02','2023-03','2023-04','2023-05','2023-06','2023-07','2023-08','2023-09','2023-10','2023-11','2023-12']).reset_index()"
      ],
      "metadata": {
        "id": "KYLqpd3lIv_C"
      },
      "execution_count": 52,
      "outputs": []
    },
    {
      "cell_type": "markdown",
      "source": [
        "###**<font color=#85d338> 4.3 Exportar**"
      ],
      "metadata": {
        "id": "KN_rtYgeevFM"
      }
    },
    {
      "cell_type": "markdown",
      "source": [
        "Nessa etapa, iremos exportar o arquivo para poder utiliza-lo no GitHub e no Streamlit."
      ],
      "metadata": {
        "id": "QMPqaOaWe07P"
      }
    },
    {
      "cell_type": "code",
      "source": [
        "#Verificando o tamanho\n",
        "bl_fixa_2023.info()"
      ],
      "metadata": {
        "colab": {
          "base_uri": "https://localhost:8080/"
        },
        "id": "NN1ui3h9fEV3",
        "outputId": "ccd3eee1-df4f-4b22-e70c-0753e9b2d8f4"
      },
      "execution_count": 53,
      "outputs": [
        {
          "output_type": "stream",
          "name": "stdout",
          "text": [
            "<class 'pandas.core.frame.DataFrame'>\n",
            "RangeIndex: 335245 entries, 0 to 335244\n",
            "Data columns (total 9 columns):\n",
            " #   Column            Non-Null Count   Dtype \n",
            "---  ------            --------------   ----- \n",
            " 0   ano               335245 non-null  int64 \n",
            " 1   mes               335245 non-null  int64 \n",
            " 2   grupo_economico   335245 non-null  object\n",
            " 3   empresa           335245 non-null  object\n",
            " 4   porte_prestadora  335245 non-null  object\n",
            " 5   UF                335245 non-null  object\n",
            " 6   meio_acesso       335245 non-null  object\n",
            " 7   tipo_pessoa       335245 non-null  object\n",
            " 8   Acessos           335245 non-null  int64 \n",
            "dtypes: int64(3), object(6)\n",
            "memory usage: 23.0+ MB\n"
          ]
        }
      ]
    },
    {
      "cell_type": "code",
      "source": [
        "bl_fixa_2023.to_csv(\"banda_larga_fixa_2023.csv\", encoding = 'utf-8')"
      ],
      "metadata": {
        "id": "kpm6HccgdBRq"
      },
      "execution_count": 54,
      "outputs": []
    },
    {
      "cell_type": "markdown",
      "source": [
        "**Arquivo CSV gerado com 22,9 MB**"
      ],
      "metadata": {
        "id": "EoGGx5pmfbcj"
      }
    },
    {
      "cell_type": "code",
      "source": [
        "bl_fixa_2023_colunas.info()"
      ],
      "metadata": {
        "colab": {
          "base_uri": "https://localhost:8080/"
        },
        "id": "y-I-t4BSMf6D",
        "outputId": "162cfd35-ea40-48f5-bc2f-b2e053c0b4ce"
      },
      "execution_count": 55,
      "outputs": [
        {
          "output_type": "stream",
          "name": "stdout",
          "text": [
            "<class 'pandas.core.frame.DataFrame'>\n",
            "RangeIndex: 32948 entries, 0 to 32947\n",
            "Data columns (total 18 columns):\n",
            " #   Column            Non-Null Count  Dtype  \n",
            "---  ------            --------------  -----  \n",
            " 0   grupo_economico   32948 non-null  object \n",
            " 1   empresa           32948 non-null  object \n",
            " 2   porte_prestadora  32948 non-null  object \n",
            " 3   UF                32948 non-null  object \n",
            " 4   meio_acesso       32948 non-null  object \n",
            " 5   tipo_pessoa       32948 non-null  object \n",
            " 6   2023-01           32948 non-null  float64\n",
            " 7   2023-02           32948 non-null  float64\n",
            " 8   2023-03           32948 non-null  float64\n",
            " 9   2023-04           32948 non-null  float64\n",
            " 10  2023-05           32948 non-null  float64\n",
            " 11  2023-06           32948 non-null  float64\n",
            " 12  2023-07           32948 non-null  float64\n",
            " 13  2023-08           32948 non-null  float64\n",
            " 14  2023-09           32948 non-null  float64\n",
            " 15  2023-10           32948 non-null  float64\n",
            " 16  2023-11           32948 non-null  float64\n",
            " 17  2023-12           32948 non-null  float64\n",
            "dtypes: float64(12), object(6)\n",
            "memory usage: 4.5+ MB\n"
          ]
        }
      ]
    },
    {
      "cell_type": "code",
      "source": [
        "bl_fixa_2023_colunas.to_csv(\"banda_larga_fixa_2023_colunas.csv\", encoding = 'utf-8')"
      ],
      "metadata": {
        "id": "7kBGd6AUMiVj"
      },
      "execution_count": 56,
      "outputs": []
    },
    {
      "cell_type": "markdown",
      "source": [
        "**Arquivo CSV gerado com 4,5 MB**"
      ],
      "metadata": {
        "id": "VER9vfr1NeR7"
      }
    }
  ],
  "metadata": {
    "colab": {
      "provenance": [],
      "authorship_tag": "ABX9TyNrcNGkrTUg7SqDFnDL3fGR",
      "include_colab_link": true
    },
    "kernelspec": {
      "display_name": "Python 3",
      "name": "python3"
    },
    "language_info": {
      "name": "python"
    }
  },
  "nbformat": 4,
  "nbformat_minor": 0
}